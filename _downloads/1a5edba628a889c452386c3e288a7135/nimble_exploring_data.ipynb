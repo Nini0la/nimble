{
 "cells": [
  {
   "cell_type": "markdown",
   "metadata": {},
   "source": [
    "# Exploring Data\n",
    "\n",
    "### Analyzing the behaviors of online shoppers\n",
    "\n",
    "Our dataset, `online_shoppers_intention_clean.csv`, stores data on the\n",
    "behaviors of visitors to an online shopping website. Our goal is to\n",
    "study this behavior via a variety of Nimble features in order to\n",
    "extract insights on the users.\n",
    "\n",
    "In this example we will learn about:\n",
    "\n",
    "* [Calculating statistics using the nimble.calculate module](#Exploring-data-through-Nimble%E2%80%99s-calculate-module)\n",
    "* [Calculating statistics using data object methods](#Exploring-data-through-data-object-methods)\n",
    "* [Plotting data](#Exploring-data-through-plotting)\n"
   ]
  },
  {
   "cell_type": "markdown",
   "metadata": {},
   "source": [
    "## Getting Started "
   ]
  },
  {
   "cell_type": "code",
   "execution_count": null,
   "metadata": {},
   "outputs": [],
   "source": [
    "import nimble\n",
    "\n",
    "bucket = 'https://storage.googleapis.com/nimble/datasets/'\n",
    "visits = nimble.data(bucket + 'online_shoppers_intention_explore.csv',\n",
    "                     returnType=\"Matrix\")\n",
    "featureNames = visits.features.getNames()"
   ]
  },
  {
   "cell_type": "markdown",
   "metadata": {},
   "source": [
    "## Data Overview \n",
    "\n",
    "This dataset has 18 features, too many to show at one time. Let's begin\n",
    "exploring our data by looking at groups of similar features.\n",
    "\n",
    "This online shopping website is composed of three different types of\n",
    "webpages (Admininstrative, Informational, and Product Related). Our first 6\n",
    "features record the counts and durations of time spent on each page type for\n",
    "each visit."
   ]
  },
  {
   "cell_type": "code",
   "execution_count": null,
   "metadata": {},
   "outputs": [],
   "source": [
    "pageActivityFts = featureNames[:6]\n",
    "visits[:, pageActivityFts].show('Page activity features', maxHeight=12)"
   ]
  },
  {
   "cell_type": "markdown",
   "metadata": {},
   "source": [
    "The next 3 features are website analytics collected during the visit."
   ]
  },
  {
   "cell_type": "code",
   "execution_count": null,
   "metadata": {},
   "outputs": [],
   "source": [
    "analyticFts = featureNames[6:9]\n",
    "visits[:, analyticFts].show('Website analytic features', maxHeight=12)"
   ]
  },
  {
   "cell_type": "markdown",
   "metadata": {},
   "source": [
    "The last 9 features are details about the visit or visitor."
   ]
  },
  {
   "cell_type": "code",
   "execution_count": null,
   "metadata": {},
   "outputs": [],
   "source": [
    "visitDetailFts = featureNames[9:]\n",
    "visits[:, visitDetailFts].show('Visit detail features', maxHeight=12)"
   ]
  },
  {
   "cell_type": "markdown",
   "metadata": {},
   "source": [
    "Now that we have a better understanding of our data, let's see what we can\n",
    "learn from it."
   ]
  },
  {
   "cell_type": "markdown",
   "metadata": {},
   "source": [
    "## Exploring data through Nimble's calculate module \n",
    "\n",
    "Reaching product-related pages is important for maximizing the chance that\n",
    "a purchase is made. This site categorizes their pages into three types\n",
    "(\"Administrative\", \"Informational\", and \"ProductRelated\"). Let's calculate\n",
    "the `mean` and `median` counts for each page type and find out if most\n",
    "visitors are reaching a product-related page."
   ]
  },
  {
   "cell_type": "code",
   "execution_count": null,
   "metadata": {},
   "outputs": [],
   "source": [
    "for ft in ['Administrative', 'Informational', 'ProductRelated']:\n",
    "    mean = nimble.calculate.mean(visits[:, ft])\n",
    "    print('Mean', ft, 'hits per visit', mean)\n",
    "    median = nimble.calculate.median(visits[:, ft])\n",
    "    print('Median', ft, 'hits per visit', median)\n",
    "\n",
    "noProduct = nimble.calculate.proportionZero(visits.features['ProductRelated'])\n",
    "print('Proportion of visitors that view a product page:', 1 - noProduct)"
   ]
  },
  {
   "cell_type": "markdown",
   "metadata": {},
   "source": [
    "We see that the mean values are consistently higher than the median values.\n",
    "Since the mean is sensitive to outliers, this indicates that we have some\n",
    "visitors that view a very high number of pages. We are also happy to see\n",
    "that nearly every visitor interacts with at least one product related page\n",
    "during their visit."
   ]
  },
  {
   "cell_type": "markdown",
   "metadata": {},
   "source": [
    "## Exploring data through data object methods \n",
    "\n",
    "Now that we know visitors are typically viewing product pages, let's focus\n",
    "on the Purchase feature. Purchase is a boolean feature indicating whether\n",
    "a purchase was made. Let's find the proportion of visits that result in a\n",
    "purchase."
   ]
  },
  {
   "cell_type": "code",
   "execution_count": null,
   "metadata": {},
   "outputs": [],
   "source": [
    "purchases = visits.points.count(lambda pt: pt['Purchase'])\n",
    "print('Proportion of visits with a purchase:', purchases / len(visits.points))"
   ]
  },
  {
   "cell_type": "markdown",
   "metadata": {},
   "source": [
    "Now let's check how Purchase correlates with our other features."
   ]
  },
  {
   "cell_type": "code",
   "execution_count": null,
   "metadata": {},
   "outputs": [],
   "source": [
    "correlations = visits.features.similarities('correlation')\n",
    "correlations[:, 'Purchase'].show('Feature correlations with Purchase')"
   ]
  },
  {
   "cell_type": "markdown",
   "metadata": {},
   "source": [
    "The SpecialDay feature ranges from 0 to 1 indicating proximity to a special\n",
    "day. Most days will have a value of 0 but, for example, a visit three days\n",
    "before Mother's Day could have a value of 0.4, the day before Mother's Day\n",
    "would have a (higher) value of 0.8, and visits on Mother's Day have a value\n",
    "of 1. We might think a special day would increase purchases made on the\n",
    "site, but we see above that SpecialDay has a negative correlation with\n",
    "Purchase. Let's investigate. First, we will find what percent of visits were\n",
    "near a special day."
   ]
  },
  {
   "cell_type": "code",
   "execution_count": null,
   "metadata": {},
   "outputs": [],
   "source": [
    "special = visits.points.copy('SpecialDay > 0')\n",
    "visitPercent = len(special.points) / len(visits.points) * 100\n",
    "print(f'{visitPercent:.2f}% of all visits were near a special day')"
   ]
  },
  {
   "cell_type": "markdown",
   "metadata": {},
   "source": [
    "Now, let's see what percent of purchases occurred near a special day."
   ]
  },
  {
   "cell_type": "code",
   "execution_count": null,
   "metadata": {},
   "outputs": [],
   "source": [
    "specialPurchases = special.points.count(lambda pt: pt['Purchase'])\n",
    "purchasePercent = specialPurchases / purchases * 100\n",
    "print(f'{purchasePercent:.2f}% of all purchases were near a special day')"
   ]
  },
  {
   "cell_type": "markdown",
   "metadata": {},
   "source": [
    "Visits near a special day represent over 10% of visits, but only about 4% of\n",
    "purchases. It appears that these days attract more visitors to the site, but\n",
    "these visitors are less likely to make a purchase."
   ]
  },
  {
   "cell_type": "markdown",
   "metadata": {},
   "source": [
    "## Exploring data through plotting \n",
    "\n",
    "We saw above that visits near a special day leads to less purchases, let's\n",
    "explore the impact of location on purchases. The location of each visit is\n",
    "classified into one of nine regions, let's see the distribution of visits by\n",
    "region."
   ]
  },
  {
   "cell_type": "code",
   "execution_count": null,
   "metadata": {},
   "outputs": [],
   "source": [
    "visits.plotFeatureDistribution('Region')"
   ]
  },
  {
   "cell_type": "markdown",
   "metadata": {},
   "source": [
    "We see above that region 1 provides the most visits to the website and\n",
    "regions 1 and 3 combine for over 50% of website traffic. Now, let's check if\n",
    "some regions are more likely to make a purchase. We can use\n",
    "`plotFeatureGroupStatistics` to do this. Since this function is grouping by\n",
    "the Region feature, the regions on the x-axis will be in order of appearance\n",
    "in the data. To keep them in ascending numeric order, we will first sort our\n",
    "data by Region. Once sorted, `plotFeatureGroupStatistics` will find the\n",
    "`count` of values in the purchase column for each Region. Then, it will\n",
    "further subdivide each count bar based on the values in Purchase (True or\n",
    "False). Now we can see if any regions are particularly better or worse at\n",
    "providing visits with a purchase."
   ]
  },
  {
   "cell_type": "code",
   "execution_count": null,
   "metadata": {},
   "outputs": [],
   "source": [
    "visits.points.sort('Region')\n",
    "visits.plotFeatureGroupStatistics(nimble.calculate.count, 'Purchase', 'Region',\n",
    "                                  subgroupFeature='Purchase',\n",
    "                                  color=['red', 'blue'])"
   ]
  },
  {
   "cell_type": "markdown",
   "metadata": {},
   "source": [
    "It does not appear that any region is making disproportionately more or less\n",
    "purchases than the others. We have learned a lot about our website data\n",
    "through this exploration. Next, see how we can use Nimble to extract more\n",
    "insight from this dataset using machine learning in our Unsupervised\n",
    "Learning example."
   ]
  },
  {
   "cell_type": "markdown",
   "metadata": {},
   "source": [
    "**References:**\n",
    "\n",
    "Sakar, C.O., Polat, S.O., Katircioglu, M. et al. Neural Comput & Applic (2018).\n",
    "[https://doi.org/10.1007/s00521-018-3523-0]\n",
    "\n",
    "Dua, D. and Graff, C. (2019).\n",
    "UCI Machine Learning Repository [http://archive.ics.uci.edu/ml].\n",
    "Irvine, CA: University of California, School of Information and Computer Science.\n",
    "\n",
    "Link to original dataset:\n",
    "https://archive.ics.uci.edu/ml/datasets/Online+Shoppers+Purchasing+Intention+Dataset"
   ]
  }
 ],
 "metadata": {},
 "nbformat": 4,
 "nbformat_minor": 4
}