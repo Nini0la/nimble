{
 "cells": [
  {
   "cell_type": "markdown",
   "metadata": {},
   "source": [
    "# Additional Functionality\n",
    "\n",
    "### Nimble functionality designed to support users.\n",
    "\n",
    "Our data in this example will help highlight functionality included in\n",
    "the Nimble library such as logging, randomness, and the design of\n",
    "\"custom learners\" for making your own machine learning algorithms that\n",
    "are supported by Nimble. Our data contains 2000 points and 8 features.\n",
    "The first 7 features are wifi signal strength values detected by a\n",
    "mobile phone from seven different wifi sources (one feature per source).\n",
    "The final feature identifies which of four rooms the mobile device was\n",
    "in. Our goal will be to predict the room that the phone is in based on\n",
    "wifi signal strength data.\n",
    "\n",
    "In this example we will learn about:\n",
    "\n",
    "* [Changing Nimble's configurable settings](#Configuration)\n",
    "* [Nimble's logging basics](#Logging)\n",
    "* [Randomness control](#Randomness)\n",
    "* [Creating a CustomLearner](#Custom-Learners)\n",
    "* [Deep Logging for cross-validation](#Cross-Validation-Deep-Logging)\n",
    "* [Viewing existing logs](#Viewing-existing-logs)\n"
   ]
  },
  {
   "cell_type": "markdown",
   "metadata": {},
   "source": [
    "## Getting Started \n",
    "\n",
    "One highlight of this example is Nimble's logging. Since the log contents\n",
    "can be affected by prior uses of Nimble, we want to ensure that the behavior\n",
    "of this example is consistent for everyone. To achieve this consistency, we\n",
    "will be storing our log in a temporary directory created by Python's\n",
    "`tempfile` module. This will ensure that our log queries only return\n",
    "information logged in this example. It also allows us to quickly remove the\n",
    "directory and its contents when we finish."
   ]
  },
  {
   "cell_type": "code",
   "execution_count": null,
   "metadata": {},
   "outputs": [],
   "source": [
    "import tempfile\n",
    "\n",
    "import nimble\n",
    "from nimble.calculate import fractionCorrect\n",
    "\n",
    "tempDir = tempfile.TemporaryDirectory('nimble-logs')"
   ]
  },
  {
   "cell_type": "markdown",
   "metadata": {},
   "source": [
    "## Configuration \n",
    "\n",
    "Nimble allows for user configuration of certain aspects of our library\n",
    "through `nimble.settings`. The default settings are written to a file and\n",
    "loaded each time Nimble is imported. To see the current configuration\n",
    "settings, we can use `nimble.settings.get`. We can also change the\n",
    "default settings using `nimble.settings.setDefault` or use\n",
    "`nimble.settings.set` to make changes for only the current session.\n",
    "\n",
    "Next, we will be exploring Nimble's logging feature. We want to start with\n",
    "an empty log file and make sure that our logger behavior is the same. Let's\n",
    "configure our logging settings so we can ensure that your log entries match\n",
    "ours throughout this example."
   ]
  },
  {
   "cell_type": "code",
   "execution_count": null,
   "metadata": {},
   "outputs": [],
   "source": [
    "# a new log file is generated when a new location is set\n",
    "nimble.settings.set('logger', 'location', tempDir.name)\n",
    "# enable logging unless explicitly overridden by a local setting\n",
    "nimble.settings.set('logger', 'enabledByDefault', 'True')"
   ]
  },
  {
   "cell_type": "markdown",
   "metadata": {},
   "source": [
    "Now that we have our new (temporary) logging file established, we can load\n",
    "our data for this example. The `nimble.fetchFile` function stores and\n",
    "retrieves data based on a configurable location that defaults to your home\n",
    "directory.  Everyone's fetch location is different so we will not print ours\n",
    "but if you are running this code and would like to see yours, uncomment the\n",
    "line below."
   ]
  },
  {
   "cell_type": "code",
   "execution_count": null,
   "metadata": {},
   "outputs": [],
   "source": [
    "# print(nimble.settings.get('fetch', 'location'))"
   ]
  },
  {
   "cell_type": "markdown",
   "metadata": {},
   "source": [
    "Within that configured directory location, `fetchFile` creates a\n",
    "\"nimbleData\" directory to store downloaded data.  `fetchFile` returns the\n",
    "path to the requested data, downloading it if it is not already available\n",
    "locally. Usually, `fetchFile` requires a url string, but Nimble has a built\n",
    "in shorthand for datasets in the UCI repository that we use to get our\n",
    "dataset for this example."
   ]
  },
  {
   "cell_type": "code",
   "execution_count": null,
   "metadata": {},
   "outputs": [],
   "source": [
    "path = nimble.fetchFile('uci::Wireless Indoor Localization')\n",
    "wifi = nimble.data(path, name='wifiData')"
   ]
  },
  {
   "cell_type": "markdown",
   "metadata": {},
   "source": [
    "As a reminder, this data used a mobile phone to collect wifi signal strength\n",
    "values from seven different wifi sources in four different rooms. Imagine\n",
    "you live in an apartment with four rooms (kitchen, living room, bedroom, and\n",
    "bathroom) and your phone picks up 7 wifi signals from your neighbors. As you\n",
    "move your phone from room to room, it will be closer to certain wifi sources\n",
    "and farther from others, changing the signal strength. This dataset is a\n",
    "matrix of integers collected from an experiment similar to our hypothetical\n",
    "situation above. Since our data does not contain a header row, it is a good\n",
    "practice to add feature names manually to clarify the contents of each\n",
    "feature."
   ]
  },
  {
   "cell_type": "code",
   "execution_count": null,
   "metadata": {},
   "outputs": [],
   "source": [
    "headers = ['source' + str(i) for i in range(7)] + ['room']\n",
    "wifi.features.setNames(headers)\n",
    "wifi.show('wifi signal strengths', maxHeight=12)"
   ]
  },
  {
   "cell_type": "markdown",
   "metadata": {},
   "source": [
    "## Logging \n",
    "\n",
    "One helpful feature of Nimble is the ability to log each session. While\n",
    "running a script or during an interactive session, actions and results are\n",
    "stored and can be queried later. This information is a great resource for\n",
    "reviewing sessions without needing to rerun the code. Depending on the\n",
    "settings, the log can also provide many additional details regarding a\n",
    "machine learning algorithm's performance. As we go through this example, we\n",
    "will demonstrate how the logger is recording our actions. All logged\n",
    "functions and methods have a `useLog` parameter. This parameter provides\n",
    "local control of logging, which can override the global settings. A value of\n",
    "`True` will always add a log entry, `False` will never add a log entry and\n",
    "`None` (the default) will use the global \"enabledByDefault\" setting . Thus\n",
    "far, our previous calls to `nimble.data` and `features.setNames` contained\n",
    "`useLog` parameters. Since we set `enabledByDefault` to \"True\", these two\n",
    "calls were logged.\n",
    "\n",
    "We can also make our own entries into the log using `nimble.log`. Let's add\n",
    "an entry to remind ourselves about the details of our data. Then we can use\n",
    "`nimble.showLog` to view our current log."
   ]
  },
  {
   "cell_type": "code",
   "execution_count": null,
   "metadata": {},
   "outputs": [],
   "source": [
    "description = 'Wifi signal strength data from 7 sources in 4 possible rooms'\n",
    "nimble.log('Data Description', description)\n",
    "nimble.showLog()"
   ]
  },
  {
   "cell_type": "markdown",
   "metadata": {},
   "source": [
    "We can always override the global logging configuration by setting `useLog`\n",
    "to `True` or `False`. Setting `useLog` to `True` or `False` has the\n",
    "advantage of ensuring that everything in the code is logged as desired\n",
    "regardless of the global setting. When \"enabledByDefault\" is set to \"False\",\n",
    "using `useLog=True` is perfect for logging only things we explicitly want to\n",
    "log. We set \"enabledByDefault\" to \"True\" earlier, but we still may want to\n",
    "avoid logging certain things. For example, below we decide to check the\n",
    "`mean` and `median` signal strength for each source because large\n",
    "differences would indicate outliers. Remembering that we ran this check is\n",
    "not overly helpful so we can skip logging it, but if we find outliers we\n",
    "will want to log any actions we take."
   ]
  },
  {
   "cell_type": "code",
   "execution_count": null,
   "metadata": {},
   "outputs": [],
   "source": [
    "sourceData = wifi[:, 'source0':'source6']\n",
    "print(sourceData.features.calculate(nimble.calculate.mean, useLog=False))\n",
    "print(sourceData.features.calculate(nimble.calculate.median, useLog=False))"
   ]
  },
  {
   "cell_type": "markdown",
   "metadata": {},
   "source": [
    "It looks like our mean and median values are similar, so our data does not\n",
    "have outliers that we need to worry about. We don't have to make any\n",
    "modifications to our data, but let's verify that our calculations were\n",
    "**not** added to the log."
   ]
  },
  {
   "cell_type": "code",
   "execution_count": null,
   "metadata": {},
   "outputs": [],
   "source": [
    "nimble.showLog()"
   ]
  },
  {
   "cell_type": "markdown",
   "metadata": {},
   "source": [
    "## Randomness \n",
    "\n",
    "If you revisit our data above, we can see that the points appear to be\n",
    "sorted by room. For our machine learning, we will want to randomize the\n",
    "order. When we call `points.permute` with no arguments, a random permutation\n",
    "is used to reorder our points. However, Nimble wants each run of a script to\n",
    "produce consistent results, so the random seed is controlled by default.\n",
    "This means that the points in our randomly permuted object shown below are\n",
    "always in the same order every time for everyone running this script."
   ]
  },
  {
   "cell_type": "code",
   "execution_count": null,
   "metadata": {},
   "outputs": [],
   "source": [
    "wifi.points.permute()\n",
    "wifi.show('randomly permuted', maxHeight=12)"
   ]
  },
  {
   "cell_type": "markdown",
   "metadata": {},
   "source": [
    "Nimble uses its `nimble.random.setSeed` function on import to control the\n",
    "random state, but this function is also publicly available to set a new seed\n",
    "or disable Nimble's randomness control by setting the seed to `None`. We can\n",
    "either change the seed for the remainder of the script, or temporarily using\n",
    "the context manager `nimble.random.alternateControl`. Even when Nimble is\n",
    "already controlling the randomness, sometimes it can be helpful to reseed it\n",
    "manually so that the current random state is known. This could allow us to\n",
    "do something like recreate the same \"random\" object in another script.\n",
    "Alternatively, we might want to temporarily use an uncontrolled state of\n",
    "randomness to create an object that is different for each run of this\n",
    "script. Below, we view five random points from our data with and without\n",
    "a set seed. The `controlled` object will always be a copy of the same 5\n",
    "points but `uncontrolled` will copy a random selection of points each time\n",
    "the code is run."
   ]
  },
  {
   "cell_type": "code",
   "execution_count": null,
   "metadata": {},
   "outputs": [],
   "source": [
    "nimble.random.setSeed(1)\n",
    "controlled = wifi.points.copy(number=5, randomize=True)\n",
    "controlled.show('controlled randomness sample')\n",
    "\n",
    "with nimble.random.alternateControl(seed=None):\n",
    "    uncontrolled = wifi.points.copy(number=5, randomize=True)\n",
    "uncontrolled.show('uncontrolled randomness sample')"
   ]
  },
  {
   "cell_type": "markdown",
   "metadata": {},
   "source": [
    "The randomness within our `alternateControl` context manager was not\n",
    "controlled but once we exited the context manager, we returned to the\n",
    "current controlled random state. This means that all of our results will be\n",
    "consistent for the remainder of this example. Nimble's `random` module also\n",
    "contains the `nimble.random.data` function for generating an object filled\n",
    "with random values. We will use this later to test that our custom learner\n",
    "is working as expected."
   ]
  },
  {
   "cell_type": "markdown",
   "metadata": {},
   "source": [
    "## Custom Learners \n",
    "\n",
    "Now it is time to perform our machine learning. For this example, we will\n",
    "first design our own custom machine learning algorithm for use with Nimble\n",
    "rather than using one of Nimble's built-in `CustomLearner`s or an algorithm\n",
    "from another package supported by Nimble (like `sklearn` or `keras`). One\n",
    "theory is that we could identify the center of each room by calculating the\n",
    "mean signal strengths of all known observations in that room. Once we have\n",
    "identified each room's center, we can measure the distance of any unknown\n",
    "observations to the four room centers. The shortest of the four distances\n",
    "could indicate that the phone is closest to the center of that room so that\n",
    "will be the room that we predict.\n",
    "\n",
    "We will be creating a learner named `LeastFeatureMeanDistance` that\n",
    "classifies points by measuring the Euclidean distance to the feature means\n",
    "for each label and selecting the label where the distance is minimized. To\n",
    "create our own custom machine learning algorithm for Nimble, we inherit from\n",
    "`nimble.CustomLearner`. Every `CustomLearner` must minimally define a\n",
    "`learnerType` attribute and `train` and `apply` methods. Our `learnerType`\n",
    "is `'classification'` because it assigns label predictions based on a\n",
    "predefined set of labels.  The `train` method uses the `trainX` and `trainY`\n",
    "data to learn a relationship that can be applied to other data. For our\n",
    "learner, the `train` method groups our data based on label and calculates\n",
    "the feature means for data with the same label. It uses a dictionary to\n",
    "store the mean of each feature that we \"learn\" from our training data so\n",
    "that they can be used for `apply`. The `apply` method uses the information\n",
    "learned from training to make predictions on new (unseen) data. For `apply`\n",
    "in our learner, we compare the Euclidean distance between a point and each\n",
    "label's feature means (learned in `train`) and predict the label with the\n",
    "shortest distance."
   ]
  },
  {
   "cell_type": "code",
   "execution_count": null,
   "metadata": {},
   "outputs": [],
   "source": [
    "class LeastFeatureMeanDistance(nimble.CustomLearner):\n",
    "    learnerType = 'classification'\n",
    "\n",
    "    def train(self, trainX, trainY):\n",
    "        \"\"\"\n",
    "        Calculate the feature means by label group.\n",
    "        \"\"\"\n",
    "        allData = trainY.copy()\n",
    "        allData.features.append(trainX, useLog=False)\n",
    "        self.featureMeans = {}\n",
    "        byLabel = allData.groupByFeature(0, useLog=False)\n",
    "        for label, group in byLabel.items():\n",
    "            means = group.features.statistics('mean')\n",
    "            self.featureMeans[label] = means\n",
    "\n",
    "    def apply(self, testX):\n",
    "        \"\"\"\n",
    "        Predict labels based on least distance from known label means.\n",
    "        \"\"\"\n",
    "        def leastDistance(point):\n",
    "            least = None\n",
    "            prediction = None\n",
    "            for label, means in self.featureMeans.items():\n",
    "                sumSquaredDiffs = sum((point - means) ** 2)\n",
    "                if least is None or sumSquaredDiffs < least:\n",
    "                    least = sumSquaredDiffs\n",
    "                    prediction = label\n",
    "            return prediction\n",
    "\n",
    "        return testX.points.calculate(leastDistance)"
   ]
  },
  {
   "cell_type": "markdown",
   "metadata": {},
   "source": [
    "Before we apply this learner to our data, let's make sure it is working as\n",
    "expected. The success of our learner depends on the room centers providing\n",
    "an accurate prediction of the actual room. This depends highly on the\n",
    "configuration of the rooms, which is unknown to us. Below we see two figures\n",
    "describing two possible layouts of four rooms. In Figure 1, our algorithm\n",
    "should be very effective because the walls bisect the room centers, but in\n",
    "Figure 2 closeness to a room center is often not a good indication of the\n",
    "correct room.\n",
    "\n",
    "![room figures](roomfigures.png \"Room Figures\")\n",
    "\n",
    "For testing, let's generate some random data and label it based on Figure 2.\n",
    "The image below shows the room in Figure 2 on a coordinate plane with each\n",
    "axis ranging from 0 to 100. Since we have defined the actual room locations\n",
    "and centers, we can calculate a good approximation of how accurate our model\n",
    "should be. For our training data, we can use `nimble.random.data` to pick\n",
    "random (x, y) coordinates representing a location on the grid. By setting\n",
    "`elementType='int'` we get random integer values from 1 to 99 (inclusive)\n",
    "which will allow our learner to learn a good approximation of the room\n",
    "centers. For each (x, y) coordinate, we can determine the room label and the\n",
    "room center that is closest to the coordinate. We expect our learner's\n",
    "predictions to be correct when the room label and the closest coordinate are\n",
    "the same.\n",
    "\n",
    "![figure 2](figure2.png \"Figure 2\")"
   ]
  },
  {
   "cell_type": "code",
   "execution_count": null,
   "metadata": {},
   "outputs": [],
   "source": [
    "# Since this is only for testing purposes, we won't log this part.\n",
    "\n",
    "rTrainX = nimble.random.data(numPoints=2000, numFeatures=2, sparsity=0,\n",
    "                             elementType='int', useLog=False)\n",
    "rTrainX.features.setNames(['x', 'y'], useLog=False)\n",
    "\n",
    "def roomIdentifier(pt):\n",
    "    \"\"\"\n",
    "    Return two-tuple (actual room, room center closest to point).\n",
    "    \"\"\"\n",
    "    if pt['y'] >= 90:\n",
    "        actualRoom = 4\n",
    "    elif pt['y'] >= 20:\n",
    "        actualRoom = 3\n",
    "    elif pt['x'] >= 20:\n",
    "        actualRoom = 2\n",
    "    else:\n",
    "        actualRoom = 1\n",
    "\n",
    "    knownCenters = {1: (10, 10), 2: (60, 10), 3: (50, 55), 4: (50, 95)}\n",
    "    distances = {}\n",
    "    for room, (x, y) in knownCenters.items():\n",
    "        distances[room] = ((pt['x'] - x) ** 2 + (pt['y'] - y) ** 2) ** 0.5\n",
    "    # find the key for the minimum value in distances\n",
    "    closestCenter = min(distances, key=distances.get)\n",
    "\n",
    "    return (actualRoom, closestCenter)\n",
    "\n",
    "rTrainY = rTrainX.points.calculate(roomIdentifier, useLog=False)\n",
    "# extract 25% of our random data (first 500 points) for testing.\n",
    "rTestX = rTrainX.points.extract(number=500, useLog=False)\n",
    "rTestY = rTrainY.points.extract(number=500, useLog=False)\n",
    "\n",
    "# Expected accuracy is the number of points in the test labels where the\n",
    "# actual room (index 0) is the same as the closest center room (index 1)\n",
    "# divided by the total number of test labels.\n",
    "expAcc = rTestY.points.count(lambda pt: pt[0] == pt[1]) / len(rTestY.points)\n",
    "print('LeastFeatureMeanDistance test expected accuracy', expAcc)\n",
    "\n",
    "actAcc = nimble.trainAndTest(LeastFeatureMeanDistance, fractionCorrect,\n",
    "                             rTrainX, rTrainY[:, 0], rTestX, rTestY[:, 0],\n",
    "                             useLog=False)\n",
    "print('LeastFeatureMeanDistance test actual accuracy', actAcc)"
   ]
  },
  {
   "cell_type": "markdown",
   "metadata": {},
   "source": [
    "Our actual prediction accuracy is very similar to our expected accuracy so\n",
    "we can be confident that our learner is working as expected. The accuracies\n",
    "differ slightly because our learner calculates the room centers from the\n",
    "training data so they won't perfectly match the known centers. Now, let's\n",
    "use our `LeastFeatureMeanDistance` learner to see if we can make accurate\n",
    "predictions using our wifi signal strength data."
   ]
  },
  {
   "cell_type": "code",
   "execution_count": null,
   "metadata": {},
   "outputs": [],
   "source": [
    "# randomOrder is False because we used permute earlier to randomize the data\n",
    "trainX, trainY, testX, testY = wifi.trainAndTestSets(testFraction=0.3,\n",
    "                                                     labels='room',\n",
    "                                                     randomOrder=False)\n",
    "performance = nimble.trainAndTest(LeastFeatureMeanDistance, fractionCorrect,\n",
    "                                  trainX, trainY, testX, testY)\n",
    "print('LeastFeatureMeanDistance accuracy:', performance)"
   ]
  },
  {
   "cell_type": "markdown",
   "metadata": {},
   "source": [
    "Our simple custom learner worked quite well, predicting the correct room in\n",
    "the test set over 97% of the time. Given our high level of accuracy, we can\n",
    "assume that the walls bisect our room centers. Our error is about 3% and\n",
    "likely occurs when the distance to the closest center is similar between two\n",
    "or more centers. Let's see if an algorithm like K-Nearest Neighbors can\n",
    "provide better performance because it can compare each unknown observation\n",
    "to multiple known observations."
   ]
  },
  {
   "cell_type": "markdown",
   "metadata": {},
   "source": [
    "## Cross Validation Deep Logging \n",
    "\n",
    "Nimble also has a few built-in custom learners, which are registered under\n",
    "the package name \u2018nimble\u2019. The `KNNClassifier` learner performs K-Nearest\n",
    "Neighbors classification. Comparing each point to its nearest neighbors\n",
    "makes this algorithm robust against varying room sizes and shapes, which was\n",
    "a major drawback of our `LeastFeatureMeanDistance` learner. It also provides\n",
    "multiple points of comparison which could help improve prediction accuracy\n",
    "for points near other rooms. However, we usually do not know the best value\n",
    "for `k` (the number of nearest neighbors) so we will cross validate for\n",
    "three different values of `k`. Logging has another configurable option named\n",
    "\"enableDeepLogging\". By default it is set to \"False\" because logging cross\n",
    "validation can increase the size of the log file much more quickly. However,\n",
    "we can learn a lot of useful information from these cross validation logs so\n",
    "let's set the value to True for the remainder of this session."
   ]
  },
  {
   "cell_type": "code",
   "execution_count": null,
   "metadata": {},
   "outputs": [],
   "source": [
    "nimble.settings.set('logger', 'enableDeepLogging', 'True')"
   ]
  },
  {
   "cell_type": "markdown",
   "metadata": {},
   "source": [
    "Enabling deep logging for cross-validation, will generate log entries for\n",
    "each fold during our k-fold cross-validation. Below, `trainAndTest` with\n",
    "`k=nimble.Tune([3, 5, 7])` will trigger hyperparameter tuning for our three\n",
    "`k` values. The `Tuning` object defines a method for selecting each argument\n",
    "set and how each argument set will be validated. All three `k` values will\n",
    "be checked with the default \"consecutive\" method, since we are only tuning\n",
    "a single parameter. The default validation is already \"cross validation\" but\n",
    "we will set it to perform 3-fold cross-validation instead of the default\n",
    "5-fold. Then, `trainAndTest` will apply the `k` value that performed the\n",
    "best during validation to the test data."
   ]
  },
  {
   "cell_type": "code",
   "execution_count": null,
   "metadata": {},
   "outputs": [],
   "source": [
    "performance = nimble.trainAndTest('nimble.KNNClassifier', fractionCorrect,\n",
    "                                  trainX, trainY, testX, testY,\n",
    "                                  k=nimble.Tune([3, 5, 7]),\n",
    "                                  tuning=nimble.Tuning(folds=3))"
   ]
  },
  {
   "cell_type": "markdown",
   "metadata": {},
   "source": [
    "With deep logging for cross validation enabled, we just created 11 new log\n",
    "entries. We get 9 cross validation logs (3-fold cross validation for 3\n",
    "different `k` values). These entries would not be added to the logger\n",
    "without deep logging being enabled and `showLog` filters these entries out\n",
    "unless `levelOfDetail` is set to 3 (the highest level). The 10th entry is a\n",
    "summary of the hyperparameter tuning results and the last entry is the\n",
    "results of our call to `trainAndTest`. The last two entries are logged as\n",
    "long as regular logging is enabled and will be displayed if `levelOfDetail`\n",
    "is 2 (the default) or greater. A `levelOfDetail` of 1 (the lowest) filters\n",
    "out all but logs for data loading and data reports. Our 9 cross validation\n",
    "log entries look similar so we will only show the last two cross validation\n",
    "entries, the tuning summary entry and our `trainAndTest` log entry by\n",
    "setting `maximumEntries=4`."
   ]
  },
  {
   "cell_type": "code",
   "execution_count": null,
   "metadata": {},
   "outputs": [],
   "source": [
    "nimble.showLog(levelOfDetail=3, maximumEntries=4)"
   ]
  },
  {
   "cell_type": "markdown",
   "metadata": {},
   "source": [
    "We can see that `k=5` slightly outperformed `k=7` on the last fold and\n",
    "outperformed both `k=3` and `k=7` on average during cross validation. When\n",
    "the learner trained with `k=5` was applied to our test data, it correctly\n",
    "identified the room in 98.5% of the test points. This outperformed our own\n",
    "custom learner, so predicting the room based on other similar observations\n",
    "is a more effective strategy than prediction based on feature means."
   ]
  },
  {
   "cell_type": "markdown",
   "metadata": {},
   "source": [
    "## Viewing existing logs \n",
    "\n",
    "Now that we have completed our machine learning, let's dive a little deeper\n",
    "into how we can take advantage of the `showLog` to find certain information\n",
    "about our data. Right now our log is small, but as it grows we will not want\n",
    "to look through the entire log. A log file can quickly contain tons of\n",
    "very different textual information from various sessions on varying days.\n",
    "To make the log easy to query, `showLog` has parameters to filter the log by\n",
    "sessions, dates, and text. For now, let\u2019s try a text search for our object\u2019s\n",
    "name, \u2018wifiData\u2019, and see all log records containing that word."
   ]
  },
  {
   "cell_type": "code",
   "execution_count": null,
   "metadata": {},
   "outputs": [],
   "source": [
    "nimble.showLog(searchForText='wifiData')"
   ]
  },
  {
   "cell_type": "markdown",
   "metadata": {},
   "source": [
    "While not required for using Nimble, features such as configuration,\n",
    "logging, randomness and custom learners add a lot of helpful functionality.\n",
    "We expect you\u2019ll find yourself using some or all of it to support your data\n",
    "science work. That wraps it up for this example, so now is a good time to\n",
    "clean up the temporary directory containing our log file."
   ]
  },
  {
   "cell_type": "code",
   "execution_count": null,
   "metadata": {},
   "outputs": [],
   "source": [
    "tempDir.cleanup()"
   ]
  },
  {
   "cell_type": "markdown",
   "metadata": {},
   "source": [
    "**References:**\n",
    "\n",
    "Rajen Bhatt, 'Fuzzy-Rough Approaches for Pattern Classification: Hybrid\n",
    "measures, Mathematical analysis, Feature selection algorithms, Decision\n",
    "tree algorithms, Neural learning, and Applications', Amazon Books\n",
    "\n",
    "Jayant G Rohra, Boominathan Perumal, Swathi Jamjala Narayanan,\n",
    "Priya Thakur, and Rajen B Bhatt, 'User Localization in an Indoor\n",
    "Environment Using Fuzzy Hybrid of Particle Swarm Optimization &\n",
    "Gravitational Search Algorithm with Neural Networks', in Proceedings of\n",
    "Sixth International Conference on Soft Computing for Problem Solving,\n",
    "2017, pp. 286-295.\n",
    "\n",
    "Dua, D. and Graff, C. (2019).\n",
    "UCI Machine Learning Repository [http://archive.ics.uci.edu/ml].\n",
    "Irvine, CA: University of California, School of Information and Computer Science.\n",
    "\n",
    "Link to dataset:\n",
    "https://archive.ics.uci.edu/ml/datasets/Wireless+Indoor+Localization"
   ]
  }
 ],
 "metadata": {},
 "nbformat": 4,
 "nbformat_minor": 4
}