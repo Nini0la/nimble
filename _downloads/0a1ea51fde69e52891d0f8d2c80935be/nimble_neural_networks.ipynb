{
 "cells": [
  {
   "cell_type": "markdown",
   "metadata": {},
   "source": [
    "# Neural Networks\n",
    "\n",
    "### Using neural networks to identify handwritten digits.\n",
    "\n",
    "Our dataset contains 1593 flattened 16x16 black and white images (each\n",
    "pixel is represented by a 1 or 0) of handwritten digits (0-9).\n",
    "Approximately half of the digits were written neatly and the other half\n",
    "were written as quickly as possible. This provides some images that are\n",
    "very difficult for even the human eye to decipher correctly. Each point\n",
    "in our dataset will contain 266 features. The first 256 features\n",
    "represent pixel values for the flattened image. The last 10 features\n",
    "identify the known label for the image using one-hot encoding. For\n",
    "example, [0,0,0,1,0,0,0,0,0,0] is a 3 and [0,0,0,0,0,0,0,0,0,1] is a 9.\n",
    "\n",
    "In this example we will learn about:\n",
    "\n",
    "* [Creating a simple neural network](#Simple-neural-network)\n",
    "* [Using objects from other packages as training parameters](#Simple-neural-network)\n",
    "* [Creating a Convolutional Neural Network](#Convolutional-Neural-Network)\n"
   ]
  },
  {
   "cell_type": "markdown",
   "metadata": {},
   "source": [
    "## Getting Started "
   ]
  },
  {
   "cell_type": "code",
   "execution_count": null,
   "metadata": {},
   "outputs": [],
   "source": [
    "import nimble\n",
    "\n",
    "path = nimble.fetchFile('uci::Semeion Handwritten Digit')\n",
    "images = nimble.data(path, returnType=\"Matrix\")"
   ]
  },
  {
   "cell_type": "markdown",
   "metadata": {},
   "source": [
    "## Preparing the data \n",
    "\n",
    "We need to separate the features identifying the labels (the last 10\n",
    "features) from the features containing our image data. Using\n",
    "`features.extract` performs this separation. New labels are placed in the\n",
    "`labels` object and our `images` object now only contains our image data."
   ]
  },
  {
   "cell_type": "code",
   "execution_count": null,
   "metadata": {},
   "outputs": [],
   "source": [
    "labels = images.features.extract(range(256, len(images.features)))\n",
    "labels.show('one-hot encoded labels', maxHeight=12)"
   ]
  },
  {
   "cell_type": "markdown",
   "metadata": {},
   "source": [
    "Rather than 10 one-hot encoded features, we need our labels to be a single\n",
    "feature with the values 0-9 for our neural network. We can perform this\n",
    "conversion by matrix multiplying (with Python's `@` matrix multiplication\n",
    "operator) our `labels` object (1593 x 10) by a feature vector with the\n",
    "sequential values 0-9 (10 x 1). Since each label contains nine `0` values\n",
    "and a single `1`, the only non-zero product is between the `1` value in the\n",
    "label and the value in the feature vector that corresponds with the index of\n",
    "the label's `1` value. So, we quickly create a 1593 x 1 object with our\n",
    "labels as the integers 0 through 9."
   ]
  },
  {
   "cell_type": "code",
   "execution_count": null,
   "metadata": {},
   "outputs": [],
   "source": [
    "intLabels = labels @ nimble.data(range(10)).T\n",
    "intLabels.show('integer labels', maxHeight=12)"
   ]
  },
  {
   "cell_type": "markdown",
   "metadata": {},
   "source": [
    "Now that we have a single feature of labels, we can randomly partition our\n",
    "data into training and testing sets."
   ]
  },
  {
   "cell_type": "code",
   "execution_count": null,
   "metadata": {},
   "outputs": [],
   "source": [
    "trainX, trainY, testX, testY = images.trainAndTestSets(testFraction=0.25,\n",
    "                                                       labels=intLabels)"
   ]
  },
  {
   "cell_type": "markdown",
   "metadata": {},
   "source": [
    "## Simple neural network \n",
    "\n",
    "For this example, we will be using the [Keras](https://keras.io) neural\n",
    "network package so it must be installed in the current environment. Our\n",
    "first task will be to build a simple Sequential model using Nimble's\n",
    "interface with Keras. The `layers` argument for a Sequential object requires\n",
    "a list of Keras `Layer` objects. However, there is no need to import the\n",
    "objects directly from Keras. As long as Keras is installed, `nimble.Init`\n",
    "can search the interfaced package for the desired objects and instantiate it\n",
    "with any keyword arguments. So we can avoid extra imports (i.e., `from\n",
    "keras.layers import  Dense, Dropout`) and there is no need to recall the\n",
    "package's module names that contain the objects we want to use."
   ]
  },
  {
   "cell_type": "code",
   "execution_count": null,
   "metadata": {},
   "outputs": [],
   "source": [
    "layer0 = nimble.Init('Dense', units=64, activation='relu', input_dim=256)\n",
    "layer1 = nimble.Init('Dropout', rate=0.5)\n",
    "layer2 = nimble.Init('Dense', units=10, activation='softmax')\n",
    "layers = [layer0, layer1, layer2]"
   ]
  },
  {
   "cell_type": "markdown",
   "metadata": {},
   "source": [
    "Now that our layers are defined, we can use `nimble.trainAndApply` to train\n",
    "the neural network with our trainX and trainY data and make predictions on\n",
    "our testX data. Similar to above, the string 'keras.Sequential' informs\n",
    "Nimble to use the Sequential object from Keras, so importing the object\n",
    "manually is not necessary."
   ]
  },
  {
   "cell_type": "code",
   "execution_count": null,
   "metadata": {},
   "outputs": [],
   "source": [
    "predictions = nimble.trainAndApply(\n",
    "    'keras.Sequential', trainX=trainX, trainY=trainY, testX=testX,\n",
    "    layers=layers, optimizer='adam', loss='sparse_categorical_crossentropy',\n",
    "    metrics=['accuracy'], epochs=10)\n",
    "\n",
    "accuracy = nimble.calculate.fractionCorrect(testY, predictions)\n",
    "print('Accuracy of simple neural network:', accuracy)"
   ]
  },
  {
   "cell_type": "markdown",
   "metadata": {},
   "source": [
    "Some older Keras versions rely on sources of randomness outside of Nimble's\n",
    "control, so your exact result could vary from ours, but should be around 90%\n",
    "accurate. This is pretty good for a simple model only trained for 10 epochs."
   ]
  },
  {
   "cell_type": "markdown",
   "metadata": {},
   "source": [
    "## Convolutional Neural Network \n",
    "\n",
    "Let's try to do better by increasing the complexity and creating a 2D\n",
    "convolutional neural network. This algorithm requires that our data be\n",
    "formatted so that it knows that each image is a 16 x 16 single channel\n",
    "(i.e., grayscale) image, so our flattened image data will not work. This\n",
    "will require each point to be a 3D (16 x 16 x 1) object. Fortunately, Nimble\n",
    "supports multi-dimensional data. We can reshape each point in our `trainX`\n",
    "and `testX` data using `unflatten`. Ultimately, this allows Nimble to\n",
    "identify each object as a four-dimensional object (a container of 3D objects\n",
    "representing 2D grayscale images). It is worth noting that Nimble will treat\n",
    "the object as if it has more than two dimensions, but the underlying data\n",
    "object is always two-dimensional. For this reason, the `shape` attribute\n",
    "will always provide the two-dimensional shape and the `dimensions` attribute\n",
    "will provide the dimensions that Nimble considers the object to have\n",
    "(`shape` and `dimensions` are the same for 2D data)."
   ]
  },
  {
   "cell_type": "code",
   "execution_count": null,
   "metadata": {},
   "outputs": [],
   "source": [
    "def reshapePoint(pt):\n",
    "    ret = pt.copy()\n",
    "    ret.unflatten((16, 16, 1))\n",
    "    return ret\n",
    "\n",
    "trainX = trainX.points.calculate(reshapePoint)\n",
    "testX = testX.points.calculate(reshapePoint)\n",
    "print('trainX.shape', trainX.shape, 'trainX.dimensions', trainX.dimensions)\n",
    "print('testX.shape', testX.shape, 'testX.dimensions', testX.dimensions)"
   ]
  },
  {
   "cell_type": "markdown",
   "metadata": {},
   "source": [
    "For our 2D convolutional neural network, we will need five different types\n",
    "of Keras `Layers` objects. Just as we did with our simple neural network\n",
    "above, we can use `nimble.Init` to instantiate these objects without\n",
    "directly importing them from Keras."
   ]
  },
  {
   "cell_type": "code",
   "execution_count": null,
   "metadata": {},
   "outputs": [],
   "source": [
    "layersCNN = []\n",
    "layersCNN.append(nimble.Init('Conv2D', filters=64, kernel_size=3,\n",
    "                             activation='relu', input_shape=(16, 16, 1)))\n",
    "layersCNN.append(nimble.Init('Conv2D', filters=32, kernel_size=3,\n",
    "                             activation='relu'))\n",
    "layersCNN.append(nimble.Init('Dropout', rate=0.2))\n",
    "layersCNN.append(nimble.Init('MaxPooling2D', pool_size=2))\n",
    "layersCNN.append(nimble.Init('Flatten'))\n",
    "layersCNN.append(nimble.Init('Dense', units=128, activation='relu'))\n",
    "layersCNN.append(nimble.Init('Dense', units=10, activation='softmax'))\n",
    "\n",
    "predictionsCNN = nimble.trainAndApply(\n",
    "    'keras.Sequential', trainX=trainX, trainY=trainY, testX=testX,\n",
    "    layers=layersCNN, optimizer='adam', loss='sparse_categorical_crossentropy',\n",
    "    metrics=['accuracy'], epochs=10)"
   ]
  },
  {
   "cell_type": "markdown",
   "metadata": {},
   "source": [
    "We see that the loss and accuracy of this model improved much faster than\n",
    "our previous model. Let's check how it performed on our test set."
   ]
  },
  {
   "cell_type": "code",
   "execution_count": null,
   "metadata": {},
   "outputs": [],
   "source": [
    "accuracyCNN = nimble.calculate.fractionCorrect(testY, predictionsCNN)\n",
    "print('Accuracy of 2D convolutional neural network:', accuracyCNN)"
   ]
  },
  {
   "cell_type": "markdown",
   "metadata": {},
   "source": [
    "With the same amount of training, our convolutional neural network is about\n",
    "6% more accurate than our simple neural network. Considering some images are\n",
    "very difficult to correctly identify because they were drawn as quickly as\n",
    "possible, nearly 97% accuracy is a significant improvement and a very good\n",
    "result."
   ]
  },
  {
   "cell_type": "markdown",
   "metadata": {},
   "source": [
    "**References:**\n",
    "\n",
    "Semeion Research Center of Sciences of Communication, via Sersale 117,\n",
    "00128 Rome, Italy\n",
    "Tattile Via Gaetano Donizetti, 1-3-5,25030 Mairano (Brescia), Italy\n",
    "\n",
    "Dua, D. and Graff, C. (2019).\n",
    "UCI Machine Learning Repository [http://archive.ics.uci.edu/ml].\n",
    "Irvine, CA: University of California, School of Information and Computer Science.\n",
    "\n",
    "Link to original dataset:\n",
    "https://archive.ics.uci.edu/ml/datasets/Semeion+Handwritten+Digit"
   ]
  }
 ],
 "metadata": {},
 "nbformat": 4,
 "nbformat_minor": 4
}