{
 "cells": [
  {
   "cell_type": "markdown",
   "metadata": {},
   "source": [
    "# Merging and Tidying Data\n",
    "\n",
    "### Creating a tidy (cleaned up) data object from multiple data objects.\n",
    "\n",
    "In this example, we have temperature data contained in 8 files. Each\n",
    "row in every file records 12 hours of temperatures for each day, but\n",
    "files vary by weather station, time period, and extreme (i.e., the file\n",
    "contains either minimum or maximum temperatures). Each file covers the\n",
    "same date range so we want to create a single object with all of our\n",
    "data. Once combined, we would like to restructure our data using\n",
    "[Hadley Wickham's Tidy Data][wickham] principles. Wickham defines \"data\n",
    "tidying\" as \"structuring datasets to facilitate analysis\" and Nimble\n",
    "provides functions that reorganize points and features to create data\n",
    "that is \"tidy\". Our goal is to create one tidy data object containing\n",
    "all of the data from our 8 original files.\n",
    "\n",
    "[wickham]: http://dx.doi.org/10.18637/jss.v059.i10\n",
    "\n",
    "In this example we will learn about:\n",
    "\n",
    "* [Combining data objects together](#Combining-the-data)\n",
    "* [Applying tidy data functions](#Tidying-the-data)\n"
   ]
  },
  {
   "cell_type": "markdown",
   "metadata": {},
   "source": [
    "## Getting Started "
   ]
  },
  {
   "cell_type": "code",
   "execution_count": null,
   "metadata": {},
   "outputs": [],
   "source": [
    "import nimble\n",
    "\n",
    "bucket = 'https://storage.googleapis.com/nimble/datasets/tidy/'\n",
    "dwtnMinAM = nimble.data(bucket + 'downtown_am_min.csv', returnType=\"Matrix\")\n",
    "dwtnMaxAM = nimble.data(bucket + 'downtown_am_max.csv', returnType=\"Matrix\")\n",
    "dwtnMinPM = nimble.data(bucket + 'downtown_pm_min.csv', returnType=\"Matrix\")\n",
    "dwtnMaxPM = nimble.data(bucket + 'downtown_pm_max.csv', returnType=\"Matrix\")\n",
    "airptMinAM = nimble.data(bucket + 'airport_am_min.csv', returnType=\"Matrix\")\n",
    "airptMaxAM = nimble.data(bucket + 'airport_am_max.csv', returnType=\"Matrix\")\n",
    "airptMinPM = nimble.data(bucket + 'airport_pm_min.csv', returnType=\"Matrix\")\n",
    "airptMaxPM = nimble.data(bucket + 'airport_pm_max.csv', returnType=\"Matrix\")"
   ]
  },
  {
   "cell_type": "markdown",
   "metadata": {},
   "source": [
    "To begin, we create 8 objects from 8 different files. The variable names\n",
    "and object names for each object represent the weather station location\n",
    "(downtown or airport), the temperature extreme recorded (Min or Max) and the\n",
    "time of day (AM or PM). All of our files have the same header row and cover\n",
    "the same date range. Let's look at one of our objects to see these headers\n",
    "and understand the current format of our data."
   ]
  },
  {
   "cell_type": "code",
   "execution_count": null,
   "metadata": {},
   "outputs": [],
   "source": [
    "dwtnMinAM.show('Example of data file structure', maxHeight=12)"
   ]
  },
  {
   "cell_type": "markdown",
   "metadata": {},
   "source": [
    "## Combining the data \n",
    "\n",
    "First, we can reduce our number of objects to 4 by combining AM and PM\n",
    "temperatures of objects at the same weather station (downtown or airport)\n",
    "and with the same extreme (min or max). The feature names for AM and PM are\n",
    "currently the same, so we will need to modify the feature names in the PM\n",
    "objects so that they denote the hour according to a 24 hour clock."
   ]
  },
  {
   "cell_type": "code",
   "execution_count": null,
   "metadata": {},
   "outputs": [],
   "source": [
    "ftsPM = ['date', 'hr12', 'hr13', 'hr14', 'hr15', 'hr16', 'hr17',\n",
    "         'hr18', 'hr19', 'hr20', 'hr21', 'hr22', 'hr23']\n",
    "\n",
    "for obj in [dwtnMinPM, dwtnMaxPM, airptMinPM, airptMaxPM]:\n",
    "    obj.features.setNames(ftsPM)"
   ]
  },
  {
   "cell_type": "markdown",
   "metadata": {},
   "source": [
    "Now that we've differentiated our features, we can use a `merge` operation\n",
    "to combine the data. We want to join these objects on the 'date' feature\n",
    "(i.e., we are combining data with the same date) and use `point='union'`\n",
    "(that is, we want all the points from both files) so that we keep all\n",
    "possible dates, even if a date is missing for the AM or PM data."
   ]
  },
  {
   "cell_type": "code",
   "execution_count": null,
   "metadata": {},
   "outputs": [],
   "source": [
    "dwtnMinAM.merge(dwtnMinPM, onFeature='date', point='union')\n",
    "dwtnMaxAM.merge(dwtnMaxPM, onFeature='date', point='union')\n",
    "airptMinAM.merge(airptMinPM, onFeature='date', point='union')\n",
    "airptMaxAM.merge(airptMaxPM, onFeature='date', point='union')\n",
    "\n",
    "dwtnMinAM.show('Downtown data merged on date', maxHeight=12)"
   ]
  },
  {
   "cell_type": "markdown",
   "metadata": {},
   "source": [
    "Next, we can reduce our number of objects from 4 to 2 by combining the\n",
    "objects with different extremes (min vs. max) for the same location.\n",
    "Before combining, we will want to add an \u201cextreme\u201d feature to each object\n",
    "based on whether it contains min vs. max data. Without this step, we would\n",
    "not be able to differentiate between minimum and maximum temperature points\n",
    "in the combined objects. Once our new feature is added, we can\n",
    "`points.append` our objects from the same weather station."
   ]
  },
  {
   "cell_type": "code",
   "execution_count": null,
   "metadata": {},
   "outputs": [],
   "source": [
    "for obj in [dwtnMinAM, dwtnMaxAM, airptMinAM, airptMaxAM]:\n",
    "    extreme = 'min' if 'min' in obj.path else 'max'\n",
    "    ftData = [[extreme] for _ in range(len(obj.points))]\n",
    "    newFt = nimble.data(ftData, featureNames=['extreme'])\n",
    "    # New feature will be added at index position 1 (after \"date\" feature)\n",
    "    obj.features.insert(1, newFt)\n",
    "\n",
    "dwtnMinAM.points.append(dwtnMaxAM)\n",
    "airptMinAM.points.append(airptMaxAM)\n",
    "\n",
    "dwtnMinAM.show('Downtown combined extreme data', maxHeight=12)"
   ]
  },
  {
   "cell_type": "markdown",
   "metadata": {},
   "source": [
    "Finally, we can combine our two objects into one by combining our two\n",
    "weather stations (downtown vs. airport). Just like in the last step, we need\n",
    "to create a new 'station' feature for each object based on which weather\n",
    "station location (downtown vs. airport) recorded the data."
   ]
  },
  {
   "cell_type": "code",
   "execution_count": null,
   "metadata": {},
   "outputs": [],
   "source": [
    "for obj in [dwtnMinAM, airptMinAM]:\n",
    "    station = 'downtown' if 'downtown' in obj.path else 'airport'\n",
    "    stationData = [[station] for _ in range(len(obj.points))]\n",
    "    newFt = nimble.data(stationData, featureNames=['station'])\n",
    "    obj.features.insert(1, newFt)\n",
    "    obj.features.setName(1, 'station')\n",
    "\n",
    "dwtnMinAM.points.append(airptMinAM)"
   ]
  },
  {
   "cell_type": "markdown",
   "metadata": {},
   "source": [
    "Since all of these operations have been in-place, our `dwtnMinAM` object\n",
    "now contains all of our data from the 8 files. This variable name could be\n",
    "confusing so, for clarity, let's assign this object to a new variable name,\n",
    "`tempData`. Let's also sort our data by date, so that we can double check\n",
    "that each date has a minimum and maximum temperature recording for each\n",
    "weather station. Taking a look at our data will also help us start exploring\n",
    "how we can begin to tidy it."
   ]
  },
  {
   "cell_type": "code",
   "execution_count": null,
   "metadata": {},
   "outputs": [],
   "source": [
    "tempData = dwtnMinAM\n",
    "tempData.name = 'combinedTemperatureData'\n",
    "tempData.points.sort('date')\n",
    "\n",
    "tempData.show('Fully merged (untidy) data', maxHeight=16)"
   ]
  },
  {
   "cell_type": "markdown",
   "metadata": {},
   "source": [
    "## Tidying the data \n",
    "\n",
    "Our dataset is combined but not in the format we want. To structure our data\n",
    "for analysis, we would like each point to be a single observation of the\n",
    "variables in our data. According to [Hadley Wickham's Tidy Data][wickham]\n",
    "principles, our dataset is not tidy for two reasons. First, 24 observations\n",
    "are made every day (one each hour). Points should represent observations so\n",
    "each day should be represented by 24 points. Second, our minimum and maximum\n",
    "temperatures are variables for the same observation. Variables should be\n",
    "represented as features.\n",
    "\n",
    "[wickham]: http://dx.doi.org/10.18637/jss.v059.i10\n",
    "\n",
    "As an example, our current (truncated) data for `2001-01-01` at the\n",
    "`downtown` station can be seen below. We see it is structured using two\n",
    "points.\n",
    "```\n",
    "   date    station  extreme  hr0   hr1   hr2   --  hr22   hr23\n",
    "\n",
    "2011-01-01 downtown   min   2.840 2.019        --  9.399  11.859\n",
    "2011-01-01 downtown   max   2.840 2.021 2.022  --  9.401  11.861\n",
    "```\n",
    "To tidy that same data, we modify the structure to include one point for\n",
    "each hour and identify the minimum and maximum temperatures in the `min` and\n",
    "`max` features.\n",
    "```\n",
    "   date    station   min    max   hour\n",
    "\n",
    "2011-01-01 downtown 2.840  2.840  hr0\n",
    "2011-01-01 downtown 2.019  2.840  hr1\n",
    "    |         |       |     |      |\n",
    "2011-01-01 downtown 9.399  11.859 hr22\n",
    "2011-01-01 downtown 3.649  11.861 hr23\n",
    "```\n",
    "\n",
    "Tidying our data will take two steps. First, we need each point to represent\n",
    "a single hour of time. So we will take our 24 hour features (hr0, hr1, \u2026,\n",
    "hr23) and collapse them to represent this same data using 24 points (one\n",
    "point for each feature that is collapsed). The collapsed features become two\n",
    "new features: one named `hour` storing each feature's name as a value and one\n",
    "named `temp` storing the temperature recorded during that hour."
   ]
  },
  {
   "cell_type": "code",
   "execution_count": null,
   "metadata": {},
   "outputs": [],
   "source": [
    "hourFts = ['hr' + str(i) for i in range(24)]\n",
    "tempData.points.splitByCollapsingFeatures(featuresToCollapse=hourFts,\n",
    "                                          featureForNames='hour',\n",
    "                                          featureForValues='temp')\n",
    "tempData.points.sort(['date', 'hour'])\n",
    "tempData.show('Split points by collapsing the hour features', maxHeight=16)"
   ]
  },
  {
   "cell_type": "markdown",
   "metadata": {},
   "source": [
    "This is looking closer now that each point refers to a single hour of time.\n",
    "However, we still have separate points storing our maximum and minimum\n",
    "temperatures. This is not obvious in the output above, let's make a couple\n",
    "of modifications to see this more clearly. First, we can clean our `hour`\n",
    "feature by transforming the former feature name strings into integers. Then,\n",
    "we will sort our data so that `show` will clearly display point pairs\n",
    "that need to be combined for our data to be tidy."
   ]
  },
  {
   "cell_type": "code",
   "execution_count": null,
   "metadata": {},
   "outputs": [],
   "source": [
    "tempData.features.transform(lambda ft: [int(v[2:]) for v in ft],\n",
    "                            features=['hour'])\n",
    "tempData.points.sort(['date', 'hour'])\n",
    "tempData.show('Date and hour sorted', maxHeight=16)"
   ]
  },
  {
   "cell_type": "markdown",
   "metadata": {},
   "source": [
    "We see above that `hr0` on `2011-01-01` for the `downtown` station, for\n",
    "example, is still represented by two points. This is because each point\n",
    "identifies either the minimum or maximum temperature. Our second step is to\n",
    "combine these two point pairs by expanding the features to include features\n",
    "for the minimum and maximum temperatures. Our `extreme` feature contains the\n",
    "values (min and max) that will become our new feature names and the `temp`\n",
    "feature contains the values that fill the new `min` and `max` features."
   ]
  },
  {
   "cell_type": "code",
   "execution_count": null,
   "metadata": {},
   "outputs": [],
   "source": [
    "tempData.points.combineByExpandingFeatures(featureWithFeatureNames='extreme',\n",
    "                                           featuresWithValues='temp')\n",
    "tempData.show('Combined points by expanding extreme feature', maxHeight=16)"
   ]
  },
  {
   "cell_type": "markdown",
   "metadata": {},
   "source": [
    "Our object is now organized how we wanted with a tidy structure. There is\n",
    "one more tidying function in Nimble as well. It is designed to separate a\n",
    "feature containing multiple pieces of information into multiple features. We\n",
    "can demonstrate its functionality by applying it to our 'date' feature to\n",
    "create `year`, `month` and `day` features."
   ]
  },
  {
   "cell_type": "code",
   "execution_count": null,
   "metadata": {},
   "outputs": [],
   "source": [
    "tempData.features.splitByParsing('date', lambda val: val.split('-'),\n",
    "                                 ['year', 'month', 'day'])\n",
    "tempData.show('Split features by parsing the date feature', maxHeight=16)"
   ]
  },
  {
   "cell_type": "markdown",
   "metadata": {},
   "source": [
    "**Reference:**\n",
    "\n",
    "Wickham, H. (2014). Tidy Data. Journal of Statistical\n",
    "Software, 59(10), 1 - 23.\n",
    "doi:http://dx.doi.org/10.18637/jss.v059.i10"
   ]
  }
 ],
 "metadata": {},
 "nbformat": 4,
 "nbformat_minor": 4
}