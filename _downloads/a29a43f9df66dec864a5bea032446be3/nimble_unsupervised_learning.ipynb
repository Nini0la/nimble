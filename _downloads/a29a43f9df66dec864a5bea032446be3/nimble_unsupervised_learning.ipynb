{
 "cells": [
  {
   "cell_type": "markdown",
   "metadata": {},
   "source": [
    "# Unsupervised Learning\n",
    "\n",
    "### Classifying online shoppers\n",
    "\n",
    "In our Exploring Data example, we began exploring visitor behavior data\n",
    "from an ecommerce website. We will use that same data for this example,\n",
    "but a version that has been prepared for machine learning,\n",
    "`online_shoppers_intention_clean.csv`. Our goal will be to use an\n",
    "unsupervised machine learning algorithm to gain a better understanding\n",
    "of visitors that made a purchase during their visit.\n",
    "\n",
    "In this example we will learn about:\n",
    "\n",
    "* [Normalizing data](#Getting-Started)\n",
    "* [Reducing the dimensionality of our learner](#Train-a-learner)\n",
    "* [Applying a clustering algorithm](#Train-a-learner)\n",
    "* [Plotting data clusters](#Cluster-Visualization)\n",
    "* [Plotting data by cluster](#Cluster-Analysis)\n"
   ]
  },
  {
   "cell_type": "markdown",
   "metadata": {},
   "source": [
    "## Getting Started "
   ]
  },
  {
   "cell_type": "code",
   "execution_count": null,
   "metadata": {},
   "outputs": [],
   "source": [
    "import nimble\n",
    "from nimble.calculate import meanStandardDeviationNormalize\n",
    "\n",
    "bucket = 'https://storage.googleapis.com/nimble/datasets/'\n",
    "visits = nimble.data(bucket + 'online_shoppers_intention_clean.csv',\n",
    "                     returnType=\"Matrix\")"
   ]
  },
  {
   "cell_type": "markdown",
   "metadata": {},
   "source": [
    "We are going to focus on categorizing our visitors that made a purchase.\n",
    "First, we will copy any data points for visits that resulted in a purchase\n",
    "into a new object."
   ]
  },
  {
   "cell_type": "code",
   "execution_count": null,
   "metadata": {},
   "outputs": [],
   "source": [
    "purchaseOnly = visits.points.copy(lambda pt: pt['Purchase'])"
   ]
  },
  {
   "cell_type": "markdown",
   "metadata": {},
   "source": [
    "The Purchase feature in `purchaseOnly` now only contains the value `True`.\n",
    "A feature with only one unique value does not provide any useful information\n",
    "and can cause failures for some machine learning algorithms, so it should be\n",
    "removed. This data also has several one-hot encoded features and some have\n",
    "all zero values in `purchaseOnly`. For example, visits occurred using\n",
    "Browser 9 but no purchases were ever made, so the feature Browser=9 needs to\n",
    "be removed. We can remove all of these at once by checking the unique\n",
    "element count in each feature and deleting any with only 1 unique value."
   ]
  },
  {
   "cell_type": "code",
   "execution_count": null,
   "metadata": {},
   "outputs": [],
   "source": [
    "purchaseOnly.features.delete(lambda ft: len(ft.countUniqueElements()) == 1)\n",
    "purchaseOnlyFtNames = purchaseOnly.features.getNames()"
   ]
  },
  {
   "cell_type": "markdown",
   "metadata": {},
   "source": [
    "For this example, we will use algorithms from the\n",
    "[Sci-kit Learn](https://scikit-learn.org/) package so it must be installed\n",
    "in the current environment. For both the PCA (Principal Component Analysis)\n",
    "and k-means algorithms that we will be using, we want to normalize our data.\n",
    "We will make a copy of our data (we will still need our original data\n",
    "later), and then standardize each feature to have a mean of 0 and standard\n",
    "deviation of 1."
   ]
  },
  {
   "cell_type": "code",
   "execution_count": null,
   "metadata": {},
   "outputs": [],
   "source": [
    "purchaseNormalized = purchaseOnly.copy()\n",
    "purchaseNormalized.features.normalize(meanStandardDeviationNormalize)"
   ]
  },
  {
   "cell_type": "markdown",
   "metadata": {},
   "source": [
    "## Train a learner \n",
    "\n",
    "We will use PCA to reduce the dimensionality of our normalized data from 67\n",
    "features to 2 features (by finding the first 2 principle components, and\n",
    "then projecting the data onto these two factors). Using data with reduced\n",
    "dimensionality may improve the results of the k-means clustering algorithm,\n",
    "and can help us visualize our clusters."
   ]
  },
  {
   "cell_type": "code",
   "execution_count": null,
   "metadata": {},
   "outputs": [],
   "source": [
    "pca = nimble.train('skl.PCA', purchaseNormalized, n_components=2)\n",
    "purchasePCA = pca.apply(purchaseNormalized)\n",
    "purchasePCA.features.setNames(['component_1', 'component_2'])"
   ]
  },
  {
   "cell_type": "markdown",
   "metadata": {},
   "source": [
    "The reduced dimensionality data from PCA is well suited for the k-means\n",
    "clustering algorithm. When doing k-means clustering, a major question is how\n",
    "many clusters to use (i.e., how many groups to automatically divide our data\n",
    "points between). We will repeatedly train k-means on our PCA data, varying\n",
    "the number of clusters from 1 to 10. Each time we will record the number of\n",
    "clusters and the inertia (the sum of squared distances to the closest\n",
    "cluster center). Plotting these values will help us determine the best\n",
    "number of clusters to use."
   ]
  },
  {
   "cell_type": "code",
   "execution_count": null,
   "metadata": {},
   "outputs": [],
   "source": [
    "kmeans = {}\n",
    "withinClusterSumSquares = []\n",
    "for i in range(1, 11):\n",
    "    trainedLearner = nimble.train('skl.KMeans', purchasePCA, n_clusters=i)\n",
    "    kmeans[i] = trainedLearner\n",
    "    inertia = trainedLearner.getAttributes()['inertia_']\n",
    "    withinClusterSumSquares.append([i, inertia])\n",
    "\n",
    "wcss = nimble.data(withinClusterSumSquares, featureNames=['clusters', 'wcss'])\n",
    "wcss.plotFeatureAgainstFeature('clusters', 'wcss', linestyle='-')"
   ]
  },
  {
   "cell_type": "markdown",
   "metadata": {},
   "source": [
    "The elbow method suggests that the \"elbow\" of the plot above provides the\n",
    "best number of clusters to use. If we envision our plot above as an arm, we\n",
    "see our elbow at 3 because there are a steeper negative slopes from 1 to 3\n",
    "and flatter negative slopes from 3 to 10. So, we will use our\n",
    "`TrainedLearner` that was trained with 3 clusters."
   ]
  },
  {
   "cell_type": "code",
   "execution_count": null,
   "metadata": {},
   "outputs": [],
   "source": [
    "numClusters = 3\n",
    "kmeans = kmeans[numClusters]"
   ]
  },
  {
   "cell_type": "markdown",
   "metadata": {},
   "source": [
    "Applying k-means clustering to our principal component data, will provide a\n",
    "feature vector storing a cluster number (0, 1, or 2) for each point in the\n",
    "data."
   ]
  },
  {
   "cell_type": "code",
   "execution_count": null,
   "metadata": {},
   "outputs": [],
   "source": [
    "clusters = kmeans.apply(purchasePCA)\n",
    "clusters.features.setName(0, 'cluster')"
   ]
  },
  {
   "cell_type": "markdown",
   "metadata": {},
   "source": [
    "## Cluster Visualization \n",
    "\n",
    "Now that we have our clusters, we can plot them to help visualize how the\n",
    "k-means learner is clustering our principal component data. First, we will\n",
    "append our `clusters` feature to our principal component data so that we can\n",
    "use the `groupByFeature` parameter to plot our principal component data\n",
    "based on cluster number. In addition to the clusters, we are going to add\n",
    "the cluster centers to our figure (the canvas containing our plots), so we\n",
    "set `show` to `False` to prevent the figure from displaying after the\n",
    "function call. We must also specify a `figureID` so our next plot can be\n",
    "added to this same figure."
   ]
  },
  {
   "cell_type": "code",
   "execution_count": null,
   "metadata": {},
   "outputs": [],
   "source": [
    "purchasePCA.features.append(clusters)\n",
    "purchasePCA.plotFeatureAgainstFeature(\n",
    "    'component_1', 'component_2', groupByFeature='cluster', show=False,\n",
    "    figureID=1)"
   ]
  },
  {
   "cell_type": "markdown",
   "metadata": {},
   "source": [
    "Each cluster has a center that will help us see how close each data point\n",
    "lies to the center of the cluster in which it was placed. We use the cluster\n",
    "center values from our `TrainedLearner` to create a new object. Each point\n",
    "represents a cluster and contains the principal component centers for that\n",
    "cluster. For this plot, values will be marked with a black \"X\" so the\n",
    "centers are clearly visible and we will add it to our same\n",
    "'clustersWithCenters' figure. Now that all of our plots have been added to\n",
    "our figure, the default `show=True` will display the figure."
   ]
  },
  {
   "cell_type": "code",
   "execution_count": null,
   "metadata": {},
   "outputs": [],
   "source": [
    "centers = nimble.data(kmeans.getAttributes()['cluster_centers_'],\n",
    "                      featureNames=['component_1', 'component_2'])\n",
    "centers.points.setNames(['cluster' + str(i) for i in range(numClusters)])\n",
    "\n",
    "title = 'k-means clustering of principal components'\n",
    "centers.plotFeatureAgainstFeature('component_1', 'component_2', figureID=1,\n",
    "                                  title=title, marker='x', color='k')"
   ]
  },
  {
   "cell_type": "markdown",
   "metadata": {},
   "source": [
    "## Cluster Analysis \n",
    "\n",
    "We used PCA and k-means clustering to identify cluster numbers for each\n",
    "point in our data. Now we can group our original data, `purchaseOnly`, by\n",
    "cluster number to analyze the data in each cluster. As we iterate through\n",
    "each cluster group, we will analyze how many data points fall into each\n",
    "cluster and calculate the feature means in each cluster for further\n",
    "analysis."
   ]
  },
  {
   "cell_type": "code",
   "execution_count": null,
   "metadata": {},
   "outputs": [],
   "source": [
    "purchaseOnly.features.append(clusters)\n",
    "# purchaseByCluster is a dictionary mapping cluster number to cluster data\n",
    "purchaseByCluster = purchaseOnly.groupByFeature('cluster')\n",
    "\n",
    "totalVisits = len(purchaseOnly.points)\n",
    "means = []\n",
    "meanPtNames = []\n",
    "for i in range(numClusters):\n",
    "    cluster = purchaseByCluster[i]\n",
    "    clusterVisits =  len(cluster.points)\n",
    "    perc = round(clusterVisits / totalVisits * 100, 2)\n",
    "    print('cluster{} contains {} visits ({}%)'.format(i, clusterVisits, perc))\n",
    "\n",
    "    means.append(cluster.features.statistics('mean'))\n",
    "    meanPtNames.append('cluster' + str(i))"
   ]
  },
  {
   "cell_type": "markdown",
   "metadata": {},
   "source": [
    "We see some imbalance in cluster sizes, but each cluster contains at least\n",
    "20% of our purchaser visits so we feel confident to continue. To analyze the\n",
    "feature means in each cluster, we will make a new Nimble data object. This\n",
    "object has three points (one for each cluster) containing our calculated\n",
    "feature means."
   ]
  },
  {
   "cell_type": "code",
   "execution_count": null,
   "metadata": {},
   "outputs": [],
   "source": [
    "clusterMeans = nimble.data(means, featureNames=purchaseOnlyFtNames,\n",
    "                           pointNames=meanPtNames)"
   ]
  },
  {
   "cell_type": "markdown",
   "metadata": {},
   "source": [
    "For this example, a good visual way to analyze differences in feature means\n",
    "between clusters is to use plots. We examined the mean of all visits by page\n",
    "type in [Exploring Data](exploring_data.ipynb), so now let's see how many\n",
    "times our average purchaser **in each cluster** visits the various page\n",
    "types."
   ]
  },
  {
   "cell_type": "code",
   "execution_count": null,
   "metadata": {},
   "outputs": [],
   "source": [
    "pageTypes = ['Administrative', 'Informational', 'ProductRelated']\n",
    "clusterMeans[:, pageTypes].features.plot()"
   ]
  },
  {
   "cell_type": "markdown",
   "metadata": {},
   "source": [
    "The plot above shows that the average purchaser in `cluster2` views many\n",
    "more pages than those in `cluster0` and `cluster1`. Product related pages\n",
    "are the most commonly visited on all clusters, but  `cluster2` averages\n",
    "about 3 times as many visits as `cluster0` and `cluster1`. Let's see if this\n",
    "pattern continues for the duration of time spent on these page types."
   ]
  },
  {
   "cell_type": "code",
   "execution_count": null,
   "metadata": {},
   "outputs": [],
   "source": [
    "pageDurations = ['Admin_Duration', 'Info_Duration', 'Product_Duration']\n",
    "clusterMeans[:, pageDurations].features.plot()"
   ]
  },
  {
   "cell_type": "markdown",
   "metadata": {},
   "source": [
    "In the plot above, we see this same pattern between clusters for the average\n",
    "duration of time spent on each page type during a visit. So, `cluster2`\n",
    "appears to enjoy browsing while the other two clusters spend less time on\n",
    "the site before making a purchase. Let's see if new users in each cluster\n",
    "could be contributing to this difference."
   ]
  },
  {
   "cell_type": "code",
   "execution_count": null,
   "metadata": {},
   "outputs": [],
   "source": [
    "clusterMeans[:, ['NewVisitor']].features.plot()"
   ]
  },
  {
   "cell_type": "markdown",
   "metadata": {},
   "source": [
    "Above, the plot shows that `cluster2` is very unlikely to contain new\n",
    "visitors. This seems to imply that returning visitors are likely to visit\n",
    "more pages and spend a longer time on the website. We also see that\n",
    "`cluster0` contains the highest percentage of new visitors, followed closely\n",
    "by `cluster1`. However, since we know `cluster1` is much larger, it will\n",
    "contain more new visitors overall. Next we will look at the distribution of\n",
    "geographic regions in each cluster."
   ]
  },
  {
   "cell_type": "code",
   "execution_count": null,
   "metadata": {},
   "outputs": [],
   "source": [
    "region = [ft for ft in purchaseOnlyFtNames if ft.startswith('Region')]\n",
    "clusterMeans[:, region].features.plot()"
   ]
  },
  {
   "cell_type": "markdown",
   "metadata": {},
   "source": [
    "We see above that the plurality of visitors in each cluster are from region\n",
    "1. No cluster contains drastically more visitors from a certain region than\n",
    "the other clusters and all regions are represented in each cluster. This\n",
    "is important because it indicates that differences between clusters are not\n",
    "likely to be regional. Let's see if purchases on weekends or special days\n",
    "differ between clusters."
   ]
  },
  {
   "cell_type": "code",
   "execution_count": null,
   "metadata": {},
   "outputs": [],
   "source": [
    "clusterMeans[:, ['Weekend', 'SpecialDay']].features.plot()"
   ]
  },
  {
   "cell_type": "markdown",
   "metadata": {},
   "source": [
    "The average purchaser in `cluster0` is more likely to visit on a weekend,\n",
    "relative to the other clusters. This is the first time that `cluster0` has\n",
    "been significantly different from `cluster1`, so maybe `cluster0` represents\n",
    "more \"Weekend Shoppers\".  We also see `cluster1` leads in special day\n",
    "shopping. This could suggest that `cluster1` has more \"Holiday Shoppers\". We\n",
    "will keep these ideas in mind, but it is also possible that these\n",
    "differences are due to random chance. We also see that `cluster2` rarely\n",
    "makes a special day purchase, so their long durations on the site are not\n",
    "driven by special occasions.\n",
    "\n",
    "A **PageValue** defines the estimated dollar amount for a visit to any given\n",
    "page. We know that each visit ended in a purchase, but not how much, so\n",
    "PageValues may provide some insight on each cluster\u2019s spending habits."
   ]
  },
  {
   "cell_type": "code",
   "execution_count": null,
   "metadata": {},
   "outputs": [],
   "source": [
    "clusterMeans[:,  'PageValues'].features.plot()"
   ]
  },
  {
   "cell_type": "markdown",
   "metadata": {},
   "source": [
    "It is interesting that `cluster2` has the lowest average PageValue. This\n",
    "means that, on average, they are looking at lower cost items on the site.\n",
    "So, despite spending a lot of time on the site, they are less likely to make\n",
    "a high value purchase. Conversely, `cluster0` and `cluster1` view more\n",
    "expensive items on the site, so their purchases are likely to be more\n",
    "costly. Unfortunately, we do not have more information, like purchase\n",
    "quantities, so it is still unclear which cluster generates the most revenue.\n",
    "\n",
    "We have data for 9 months of purchases, let's see if our clusters spend\n",
    "consistently each month."
   ]
  },
  {
   "cell_type": "code",
   "execution_count": null,
   "metadata": {},
   "outputs": [],
   "source": [
    "months = [ft for ft in purchaseOnlyFtNames if ft.startswith('Month')]\n",
    "clusterMeans[:, months].features.plot()"
   ]
  },
  {
   "cell_type": "markdown",
   "metadata": {},
   "source": [
    "Above, we see an overwhelming majority of `cluster2`\u2019s purchases came in\n",
    "Month 7, as did a good percentage of `cluster0`\u2019s. Since `cluster2` is\n",
    "primarily returning visitors, it is possible some marketing or other event\n",
    "took place in month 7 that led visitors to return and make a purchase at\n",
    "that time. Additionally, `cluster2` rarely buys for special days, so we can\n",
    "assume that the purchases in month 7 were not due to a special occasion. We\n",
    "see `cluster1` purchases more consistently, this seems to contradict our\n",
    "previous idea that `cluster1` could contain \"Holiday Shoppers\".\n",
    "\n",
    "Last, we will look at the operating systems and browsers that visitors are\n",
    "using within the clusters."
   ]
  },
  {
   "cell_type": "code",
   "execution_count": null,
   "metadata": {},
   "outputs": [],
   "source": [
    "os = [ft for ft in purchaseOnlyFtNames\n",
    "      if ft.startswith('OperatingSystem') or ft.startswith('Browser')]\n",
    "clusterMeans[:, os].features.plot()"
   ]
  },
  {
   "cell_type": "markdown",
   "metadata": {},
   "source": [
    "Often operating systems provide a browser, so a high correlation between the\n",
    "features above is not surprising. Let's focus on browsers since the majority\n",
    "of visitors used browser 1 or 2. Up to this point, `cluster0` and `cluster1`\n",
    "appeared mostly similar, however we see above that visitors use very\n",
    "different browsers between these two clusters. We also see that visitors in\n",
    "`cluster1` and `cluster2` generally use similar browsers. It seems strange\n",
    "that visitors using browser 2 span two clusters with very different\n",
    "behaviors, yet visitors on browser 1 mostly fall into the same cluster."
   ]
  },
  {
   "cell_type": "markdown",
   "metadata": {},
   "source": [
    "## Cluster Assumptions \n",
    "\n",
    "We quickly saw that `cluster2` varied quite a bit from `cluster0` and\n",
    "`cluster1`. `cluster2` averages over an hour on the site and 100 individual\n",
    "page visits, but typically on pages with low page values. Visitors are\n",
    "almost always return visitors and 70% of the visits in `cluster2` were in\n",
    "month 7. It is possible that visitors in this cluster may have been\n",
    "motivated, possibly by a sale or coupon, to return to the site and spend\n",
    "time browsing the site's lower-cost items to find something to purchase.\n",
    "\n",
    "We found that `cluster0` and `cluster1` are very similar in terms of number\n",
    "of pages visited and duration spent on the site. The average visitor in both\n",
    "of these clusters visited around 30 pages and spent about 20 minutes on the\n",
    "site. They also both have similar average page values that are much higher\n",
    "than `cluster2`, with `cluster1` being slightly higher than `cluster0`. So,\n",
    "these visitors appear to be targeting specific, often more expensive, items\n",
    "when they visit the site, rather than browsing the site\u2019s inventory.\n",
    "\n",
    "More purchases in `cluster0` were on a weekend but browser differentiated it\n",
    "most from the other clusters. Nearly all purchases that use browser 1 are\n",
    "found in `cluster0`. Most users of other browsers are found in either\n",
    "`cluster1` or `cluster2`. We might expect customer behavior to be mostly\n",
    "consistent across browsers, but purchasers using browser 1 are very rarely\n",
    "spend long durations on the site. The association between browser 1 and\n",
    "shorter durations spent on the site is likely something worth investigation.\n",
    "\n",
    "We can only speculate, but there are a couple of potential reasons that we\n",
    "might be seeing this inconsistent behavior across browsers. There could be a\n",
    "flaw or poorly optimized aspect of the site on browser 1 that is\n",
    "discouraging visitors from browsing. Or, given we have speculated that the\n",
    "behavior of visitors in `cluster2` could have been driven by marketing, it\n",
    "may be the case that this marketing failed to reach users of browser 1."
   ]
  },
  {
   "cell_type": "markdown",
   "metadata": {},
   "source": [
    "**Reference:**\n",
    "\n",
    "Sakar, C.O., Polat, S.O., Katircioglu, M. et al. Neural Comput & Applic (2018).\n",
    "[https://doi.org/10.1007/s00521-018-3523-0]\n",
    "\n",
    "Dua, D. and Graff, C. (2019).\n",
    "UCI Machine Learning Repository [http://archive.ics.uci.edu/ml].\n",
    "Irvine, CA: University of California, School of Information and Computer Science.\n",
    "\n",
    "Link to original dataset:\n",
    "https://archive.ics.uci.edu/ml/datasets/Online+Shoppers+Purchasing+Intention+Dataset"
   ]
  }
 ],
 "metadata": {},
 "nbformat": 4,
 "nbformat_minor": 4
}