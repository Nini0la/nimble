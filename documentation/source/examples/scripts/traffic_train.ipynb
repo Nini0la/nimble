{
 "cells": [
  {
   "cell_type": "markdown",
   "metadata": {},
   "source": [
    "# Supervised Learning\n",
    "\n",
    "### Training interstate traffic data to make future predictions\n",
    "\n",
    "This example will use two datasets that contain data on interstate\n",
    "traffic volumes and features that may contribute to changes in traffic\n",
    "volume. Metro_Interstate_Traffic_Volume_Cleaned.csv, was generated in\n",
    "our Data Cleaning example and is the cleaned data we will use to build\n",
    "our supervised learning models.\n",
    "Metro_Interstate_Traffic_Volume_Predict.csv, contains fictional\n",
    "\"forecast\" data that we will use to simulate making traffic volume\n",
    "predictions using our supervised learning model."
   ]
  },
  {
   "cell_type": "markdown",
   "metadata": {},
   "source": [
    "## Getting Started"
   ]
  },
  {
   "cell_type": "markdown",
   "metadata": {},
   "source": [
    "Create data objects from our `csv` files, which can be downloaded [here](#)."
   ]
  },
  {
   "cell_type": "code",
   "execution_count": null,
   "metadata": {},
   "outputs": [],
   "source": [
    "import nimble\n",
    "\n",
    "traffic = nimble.data('Matrix', 'Metro_Interstate_Traffic_Volume_Cleaned.csv',\n",
    "                      featureNames=True)\n",
    "forecast = nimble.data('Matrix', 'Metro_Interstate_Traffic_Volume_Predict.csv',\n",
    "                       featureNames=True)"
   ]
  },
  {
   "cell_type": "markdown",
   "metadata": {},
   "source": [
    "## Test five different learners"
   ]
  },
  {
   "cell_type": "markdown",
   "metadata": {},
   "source": [
    "We'll divide our `traffic` data into training and testing sets. Using\n",
    "`nimble.trainAndTest`, we can quickly test the performance of five different\n",
    "regressors from the sci-kit learn package. We will analyze the performance by\n",
    "comparing each learner's root mean square error."
   ]
  },
  {
   "cell_type": "code",
   "execution_count": null,
   "metadata": {},
   "outputs": [],
   "source": [
    "testFraction = 0.25\n",
    "yFeature = 'traffic_volume'\n",
    "nimble.random.setSeed(23)\n",
    "trainX, trainY, testX, testY = traffic.trainAndTestSets(testFraction, yFeature)\n",
    "\n",
    "learners = ['sklearn.LinearRegression', 'sklearn.Ridge', 'sklearn.Lasso',\n",
    "            'sklearn.KNeighborsRegressor', 'sklearn.RandomForestRegressor']\n",
    "performanceFunction = nimble.calculate.rootMeanSquareError\n",
    "for learner in learners:\n",
    "    performance = nimble.trainAndTest(learner, trainX, trainY, testX, testY,\n",
    "                                      performanceFunction)\n",
    "    print(learner, 'root mean square error:', performance)"
   ]
  },
  {
   "cell_type": "markdown",
   "metadata": {},
   "source": [
    "`'sklearn.KNeighborsRegressor'` and `'sklearn.RandomForestRegressor'`\n",
    "look to be better choices for predicting traffic volume with this data than\n",
    "the linear regression learners, so let's focus on optimizing those two."
   ]
  },
  {
   "cell_type": "markdown",
   "metadata": {},
   "source": [
    "## Cross-validate arguments to improve performance"
   ]
  },
  {
   "cell_type": "markdown",
   "metadata": {},
   "source": [
    "Additional arguments for a learner can be supplied through `arguments` as a\n",
    "dict or via keyword arguments and `nimble.CV` allows for multiple arguments\n",
    "to be passed for the same parameter. The presence of `CV` will trigger k-fold\n",
    "cross validation where k is the value of the `folds` arguments. Each\n",
    "combination of arguments will be  trained and tested using the\n",
    "`performanceFunction` to determine the best parameter set to use."
   ]
  },
  {
   "cell_type": "code",
   "execution_count": null,
   "metadata": {},
   "outputs": [],
   "source": [
    "knnTL = nimble.train('skl.KNeighborsRegressor', trainX, trainY,\n",
    "                     performanceFunction, folds=5,\n",
    "                     arguments={'n_neighbors': nimble.CV([1, 5, 11, 99])})\n",
    "rfTL = nimble.train('skl.RandomForestRegressor', trainX, trainY,\n",
    "                    performanceFunction, folds=5,\n",
    "                    min_samples_split=nimble.CV([2, 4]),\n",
    "                    min_samples_leaf=nimble.CV([1, 2]))"
   ]
  },
  {
   "cell_type": "markdown",
   "metadata": {},
   "source": [
    "We used `nimble.train` above because it returns a `TrainedLearner`. A\n",
    "`TrainedLearner` allows us to apply and test, but also provides many\n",
    "additional methods and attributes. As an example, we can access all of our\n",
    "cross validation results through our `TrainedLearner`."
   ]
  },
  {
   "cell_type": "code",
   "execution_count": null,
   "metadata": {},
   "outputs": [],
   "source": [
    "for result in knnTL.crossValidation.allResults:\n",
    "    print(result)"
   ]
  },
  {
   "cell_type": "markdown",
   "metadata": {},
   "source": [
    "Or we could access the best arguments and results.  Note, the returned\n",
    "`TrainedLearner` is always trained using the best argument set if cross\n",
    "validation occurred."
   ]
  },
  {
   "cell_type": "code",
   "execution_count": null,
   "metadata": {},
   "outputs": [],
   "source": [
    "print(rfTL.crossValidation.bestArguments, rfTL.crossValidation.bestResult)"
   ]
  },
  {
   "cell_type": "markdown",
   "metadata": {},
   "source": [
    "`knnTL` found `n_neighbors` of 5 to be the best argument.  This is the same\n",
    "as the default value so we already know how it performs on the testing data.\n",
    "However, `rfTL` found `min_samples_leaf` of 2 outperformed the default, 1.\n",
    "Let's see how it performs on our testing data."
   ]
  },
  {
   "cell_type": "code",
   "execution_count": null,
   "metadata": {},
   "outputs": [],
   "source": [
    "rfPerf = rfTL.test(trainX, trainY, performanceFunction)\n",
    "print(rfPerf)"
   ]
  },
  {
   "cell_type": "markdown",
   "metadata": {},
   "source": [
    "## Applying our learner"
   ]
  },
  {
   "cell_type": "markdown",
   "metadata": {},
   "source": [
    "We see a further improvement in the performance so let's use `rfTL` to\n",
    "predict the traffic volumes for our `forecast` object. Before printing, we\n",
    "will append the `hour` feature from `forecasts` to get a better visual of\n",
    "the traffic throughout the day."
   ]
  },
  {
   "cell_type": "code",
   "execution_count": null,
   "metadata": {},
   "outputs": [],
   "source": [
    "predictedTraffic = rfTL.apply(forecast)\n",
    "predictedTraffic.features.setName(0, 'volume')\n",
    "predictedTraffic.features.append(forecast.features['hour'])\n",
    "print(predictedTraffic)"
   ]
  },
  {
   "cell_type": "markdown",
   "metadata": {},
   "source": [
    "Based on our forecasted data, our learner is predicting heavy traffic\n",
    "starting in the morning and continuing throughout the day. Traffic volumes\n",
    "are expected to peak during the 7am hour for the morning commute and again\n",
    "at 4pm for the afternoon commute."
   ]
  },
  {
   "cell_type": "markdown",
   "metadata": {},
   "source": [
    "**Reference:**  \n",
    "Dua, D. and Graff, C. (2019).  \n",
    "UCI Machine Learning Repository http://archive.ics.uci.edu/ml.  \n",
    "Irvine, CA: University of California, School of Information and Computer Science.\n",
    "\n",
    "**Original Dataset Link:**  \n",
    "https://archive.ics.uci.edu/ml/datasets/Metro+Interstate+Traffic+Volume"
   ]
  }
 ],
 "metadata": {
  "kernelspec": {
   "display_name": "SW36",
   "language": "python",
   "name": "sw36"
  },
  "language_info": {
   "codemirror_mode": {
    "name": "ipython",
    "version": 3
   },
   "file_extension": ".py",
   "mimetype": "text/x-python",
   "name": "python",
   "nbconvert_exporter": "python",
   "pygments_lexer": "ipython3",
   "version": "3.6.8"
  }
 },
 "nbformat": 4,
 "nbformat_minor": 4
}
