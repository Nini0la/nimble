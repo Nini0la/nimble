{
 "cells": [
  {
   "cell_type": "markdown",
   "metadata": {},
   "source": [
    "# Neural Networks\n",
    "\n",
    "### Using neural networks to identify handwritten digits.\n",
    "\n",
    "Each point in our dataset contains 267 features. The first 256 features\n",
    "represent pixel values for a flattened 16x16 grayscale image. The final\n",
    "10 features are a binary representation of the known label for the\n",
    "image. Our goal is to correctly identify handwritten digits using neural\n",
    "networks."
   ]
  },
  {
   "cell_type": "markdown",
   "metadata": {},
   "source": [
    "## Getting Started"
   ]
  },
  {
   "cell_type": "code",
   "execution_count": null,
   "metadata": {},
   "outputs": [],
   "source": [
    "import nimble\n",
    "\n",
    "images = nimble.data('Matrix', 'semeion.data')"
   ]
  },
  {
   "cell_type": "markdown",
   "metadata": {},
   "source": [
    "## Preparing the data"
   ]
  },
  {
   "cell_type": "markdown",
   "metadata": {},
   "source": [
    "We need to separate the labels (the last 10 features) from the image data"
   ]
  },
  {
   "cell_type": "code",
   "execution_count": null,
   "metadata": {},
   "outputs": [],
   "source": [
    "labels = images.features.extract(range(256, len(images.features)))"
   ]
  },
  {
   "cell_type": "markdown",
   "metadata": {},
   "source": [
    "We want our neural network to choose digits from 0-9 so let's create a\n",
    "single feature of integers from the binary features in labels."
   ]
  },
  {
   "cell_type": "code",
   "execution_count": null,
   "metadata": {},
   "outputs": [],
   "source": [
    "intLabels = labels.points.calculate(lambda pt: list(pt).index(1))"
   ]
  },
  {
   "cell_type": "markdown",
   "metadata": {},
   "source": [
    "We'll append our new labels to our images object to divide our data into\n",
    "train and test sets."
   ]
  },
  {
   "cell_type": "code",
   "execution_count": null,
   "metadata": {},
   "outputs": [],
   "source": [
    "images.features.append(intLabels)\n",
    "trainX, trainY, testX, testY = images.trainAndTestSets(testFraction=0.25, labels=-1)"
   ]
  },
  {
   "cell_type": "markdown",
   "metadata": {},
   "source": [
    "## Simple neural network"
   ]
  },
  {
   "cell_type": "markdown",
   "metadata": {},
   "source": [
    "To start, we can build a simple Sequential model using Keras. The `layers`\n",
    "argument for a Sequential object, requires a list of other Keras objects.\n",
    "However, there is no need to import other objects directly from an interface\n",
    "because our `nimble.Init` object will handle that. Below, we see how we\n",
    "create Dense and Dropout layers with varying keyword arguments."
   ]
  },
  {
   "cell_type": "code",
   "execution_count": null,
   "metadata": {},
   "outputs": [],
   "source": [
    "layer0 = nimble.Init('Dense', units=64, activation='relu', input_dim=256)\n",
    "layer1 = nimble.Init('Dropout', rate=0.5)\n",
    "layer2 = nimble.Init('Dense', units=10, activation='softmax')\n",
    "layers = [layer0, layer1, layer2]"
   ]
  },
  {
   "cell_type": "markdown",
   "metadata": {},
   "source": [
    "Now that we've taken advantage of nimble.Init to define our layers, we can\n",
    "train and apply our model."
   ]
  },
  {
   "cell_type": "code",
   "execution_count": null,
   "metadata": {},
   "outputs": [],
   "source": [
    "probs = nimble.trainAndApply(\n",
    "    'keras.Sequential', trainX=trainX, trainY=trainY, testX=testX,\n",
    "    layers=layers, optimizer='adam', loss='sparse_categorical_crossentropy',\n",
    "    metrics=['accuracy'], epochs=10)"
   ]
  },
  {
   "cell_type": "markdown",
   "metadata": {},
   "source": [
    "Similar to our `labels` object, `probs` has 10 features but this time each\n",
    "feature represents a probability for the label at that index.  For our\n",
    "prediction, we will use the index with the maximum probability. Then we can\n",
    "see how our simple neural net performed on our test set."
   ]
  },
  {
   "cell_type": "code",
   "execution_count": null,
   "metadata": {},
   "outputs": [],
   "source": [
    "def maximumProbabilty(pt):\n",
    "    maximum = max(pt)\n",
    "    return list(pt).index(maximum)\n",
    "\n",
    "predictions = probs.points.calculate(maximumProbabilty)\n",
    "print(nimble.calculate.fractionCorrect(testY, predictions))"
   ]
  },
  {
   "cell_type": "markdown",
   "metadata": {},
   "source": [
    "Nimble cannot control for randomness in Keras models so exact results will\n",
    "vary but should be around 90% accurate. This is pretty good for a simple\n",
    "model only trained for 10 epochs,"
   ]
  },
  {
   "cell_type": "markdown",
   "metadata": {},
   "source": [
    "## Convolutional Neural Network"
   ]
  },
  {
   "cell_type": "markdown",
   "metadata": {},
   "source": [
    "Let's try to do better by increasing the complexity and create a 2D\n",
    "convolutional neural network this time. For this we will need to reshape our\n",
    "trainX and testX data so that Keras knows that each point is a 16 x 16\n",
    "single channel image."
   ]
  },
  {
   "cell_type": "code",
   "execution_count": null,
   "metadata": {},
   "outputs": [],
   "source": [
    "def reshapePoint(pt):\n",
    "    ret = pt.copy()\n",
    "    ret.unflatten((16, 16, 1))\n",
    "    return ret\n",
    "\n",
    "trainX = trainX.points.calculate(reshapePoint)\n",
    "testX = testX.points.calculate(reshapePoint)"
   ]
  },
  {
   "cell_type": "markdown",
   "metadata": {},
   "source": [
    "We need even more Keras objects as layers for our 2D convolutional neural\n",
    "network, so again we will use nimble.Init."
   ]
  },
  {
   "cell_type": "code",
   "execution_count": null,
   "metadata": {},
   "outputs": [],
   "source": [
    "layersCNN = []\n",
    "layersCNN.append(nimble.Init('Conv2D', filters=64, kernel_size=3,\n",
    "                             activation='relu', input_shape=(16, 16, 1)))\n",
    "layersCNN.append(nimble.Init('Conv2D', filters=32, kernel_size=3,\n",
    "                             activation='relu'))\n",
    "layersCNN.append(nimble.Init('Dropout', rate=0.2))\n",
    "layersCNN.append(nimble.Init('MaxPooling2D', pool_size=2))\n",
    "layersCNN.append(nimble.Init('Flatten'))\n",
    "layersCNN.append(nimble.Init('Dense', units=128, activation='relu'))\n",
    "layersCNN.append(nimble.Init('Dense', units=10, activation='softmax'))\n",
    "\n",
    "probsCNN = nimble.trainAndApply(\n",
    "    'keras.Sequential', trainX=trainX, trainY=trainY, testX=testX,\n",
    "    layers=layersCNN, optimizer='adam', loss='sparse_categorical_crossentropy',\n",
    "    metrics=['accuracy'], epochs=10)"
   ]
  },
  {
   "cell_type": "markdown",
   "metadata": {},
   "source": [
    "We see that the loss and accuracy of this model improved much faster than\n",
    "our previous model. Let's check how it performed on our test set."
   ]
  },
  {
   "cell_type": "code",
   "execution_count": null,
   "metadata": {},
   "outputs": [],
   "source": [
    "predictionsCNN = probsCNN.points.calculate(maximumProbabilty)\n",
    "print(nimble.calculate.fractionCorrect(testY, predictionsCNN))"
   ]
  },
  {
   "cell_type": "markdown",
   "metadata": {},
   "source": [
    "**References:**  \n",
    "Semeion Research Center of Sciences of Communication, via Sersale 117,\n",
    "00128 Rome, Italy  \n",
    "Tattile Via Gaetano Donizetti, 1-3-5,25030 Mairano (Brescia), Italy\n",
    "\n",
    "Dua, D. and Graff, C. (2019).  \n",
    "UCI Machine Learning Repository http://archive.ics.uci.edu/ml.  \n",
    "Irvine, CA: University of California, School of Information and Computer Science.\n",
    "\n",
    "**Original Dataset Link:**  \n",
    "https://archive.ics.uci.edu/ml/datasets/Semeion+Handwritten+Digit"
   ]
  }
 ],
 "metadata": {
  "kernelspec": {
   "display_name": "SW36",
   "language": "python",
   "name": "sw36"
  },
  "language_info": {
   "codemirror_mode": {
    "name": "ipython",
    "version": 3
   },
   "file_extension": ".py",
   "mimetype": "text/x-python",
   "name": "python",
   "nbconvert_exporter": "python",
   "pygments_lexer": "ipython3",
   "version": "3.6.8"
  }
 },
 "nbformat": 4,
 "nbformat_minor": 4
}
