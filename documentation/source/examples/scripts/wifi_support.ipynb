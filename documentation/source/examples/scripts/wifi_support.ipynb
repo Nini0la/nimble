{
 "cells": [
  {
   "cell_type": "markdown",
   "metadata": {},
   "source": [
    "# Configuration, Logging, Randomness and Custom Learners\n",
    "\n",
    "### Additional nimble functionality designed to support users.\n",
    "\n",
    "Our data for this example contains 2000 points and 8 features. The first\n",
    "7 features are wifi signal strength values picked up by a mobile phone\n",
    "from seven different wifi sources . The final feature records which of\n",
    "four rooms the mobile device was in. This dataset will help highlight\n",
    "additional functionality included in the nimble library."
   ]
  },
  {
   "cell_type": "markdown",
   "metadata": {},
   "source": [
    "## Getting Started"
   ]
  },
  {
   "cell_type": "code",
   "execution_count": null,
   "metadata": {},
   "outputs": [],
   "source": [
    "import tempfile\n",
    "\n",
    "import nimble"
   ]
  },
  {
   "cell_type": "markdown",
   "metadata": {},
   "source": [
    "## Configuration"
   ]
  },
  {
   "cell_type": "markdown",
   "metadata": {},
   "source": [
    "Nimble allows for user control of certain aspects of our library through\n",
    "a configuration file name configuration.ini. If configuration.ini does\n",
    "not exist when nimble is imported (as is expected when importing nimble\n",
    "for the first time) nimble generates configuration.ini. On import,\n",
    "configuration.ini is used to establish the settings for the\n",
    "session. Through `nimble.settings`, we can access the current settings\n",
    "as well as modify settings for this session or all future sessions.\n",
    "To start our session, let's make sure our logging output settings are set\n",
    "to the defaults used when nimble is first installed.\n"
   ]
  },
  {
   "cell_type": "code",
   "execution_count": null,
   "metadata": {},
   "outputs": [],
   "source": [
    "nimble.settings.set('logger', 'enabledByDefault', 'True')\n",
    "nimble.settings.set('logger', 'enableCrossValidationDeepLogging', 'False')"
   ]
  },
  {
   "cell_type": "markdown",
   "metadata": {},
   "source": [
    "## Logging"
   ]
  },
  {
   "cell_type": "markdown",
   "metadata": {},
   "source": [
    "Nimble keeps an ongoing log of each session, by default. The logging\n",
    "settings are configurable. Let's take a look at the default settings."
   ]
  },
  {
   "cell_type": "code",
   "execution_count": null,
   "metadata": {},
   "outputs": [],
   "source": [
    "print(nimble.settings.get('logger', 'location'))\n",
    "print(nimble.settings.get('logger', 'name'))\n",
    "print(nimble.settings.get('logger', 'enabledByDefault'))\n",
    "print(nimble.settings.get('logger', 'enableCrossValidationDeepLogging'))"
   ]
  },
  {
   "cell_type": "markdown",
   "metadata": {},
   "source": [
    "Let's use tempfile to create a new directory for our logs in this example.\n",
    "This will ensure log output in this example is consistent for everyone\n",
    "following along."
   ]
  },
  {
   "cell_type": "code",
   "execution_count": null,
   "metadata": {},
   "outputs": [],
   "source": [
    "tempDir = tempfile.TemporaryDirectory('nimble-logs')\n",
    "nimble.settings.set('logger', 'location', tempDir.name)"
   ]
  },
  {
   "cell_type": "markdown",
   "metadata": {},
   "source": [
    "All logged functions and methods have a `useLog` parameter. The default,\n",
    "value for `useLog` is `None`, meaning nimble will use the value stored in\n",
    "configuration.ini. The `createData` method has a `useLog` parameter, but\n",
    "`show` does not. Since `enabledByDefault` is True in our configuration file,\n",
    "`showLog` should have one entry showing we loaded our data as a Matrix."
   ]
  },
  {
   "cell_type": "code",
   "execution_count": null,
   "metadata": {},
   "outputs": [],
   "source": [
    "wifi = nimble.data('Matrix', 'wifi_localization.txt')\n",
    "wifi.show(None, maxHeight=9)\n",
    "nimble.showLog()"
   ]
  },
  {
   "cell_type": "markdown",
   "metadata": {},
   "source": [
    "Object methods like permute and transform can be logged.  We can always\n",
    "override the configured setting by specifying `True` or `False` for `useLog`."
   ]
  },
  {
   "cell_type": "code",
   "execution_count": null,
   "metadata": {},
   "outputs": [],
   "source": [
    "wifi.points.permute(useLog=False)\n",
    "wifi.points.transform(lambda pt: abs(pt), useLog=True)\n",
    "print(wifi[:3, :])\n",
    "nimble.showLog()"
   ]
  },
  {
   "cell_type": "markdown",
   "metadata": {},
   "source": [
    "We only see a new log entry for `transform`, not `permute`, which is what we\n",
    "expected."
   ]
  },
  {
   "cell_type": "markdown",
   "metadata": {},
   "source": [
    "## Randomness"
   ]
  },
  {
   "cell_type": "markdown",
   "metadata": {},
   "source": [
    "For those following along, you may have not expected that `permute` would\n",
    "yield the same matrix for you as we displayed above. This is because\n",
    "nimble strives for reproducible results so we control for randomness. Of\n",
    "course, this can be disabled or you can choose your own random seed."
   ]
  },
  {
   "cell_type": "code",
   "execution_count": null,
   "metadata": {},
   "outputs": [],
   "source": [
    "nimble.random.setSeed(None) # disable consistent results\n",
    "wifi.points.permute()\n",
    "print(wifi[:3, :])"
   ]
  },
  {
   "cell_type": "markdown",
   "metadata": {},
   "source": [
    "Everything we just did (except printing) was also logged. Let's check that\n",
    "our last 2 log entries show that a new random seed was assigned and that we\n",
    "permuted our object's points."
   ]
  },
  {
   "cell_type": "code",
   "execution_count": null,
   "metadata": {},
   "outputs": [],
   "source": [
    "nimble.showLog(maximumEntries=2)"
   ]
  },
  {
   "cell_type": "markdown",
   "metadata": {},
   "source": [
    "## Custom Learners"
   ]
  },
  {
   "cell_type": "markdown",
   "metadata": {},
   "source": [
    "Now we want to perform some machine learning. First, let's make our results\n",
    "reproducible again by setting a new random seed and reloading our data.\n",
    "This will ensure that everyone's data is divided into the same training and\n",
    "testing sets."
   ]
  },
  {
   "cell_type": "code",
   "execution_count": null,
   "metadata": {},
   "outputs": [],
   "source": [
    "nimble.random.setSeed(1234)\n",
    "wifi = nimble.data('Matrix', 'wifi_localization.txt', name='wifi')\n",
    "trainX, trainY, testX, testY = wifi.trainAndTestSets(testFraction=0.3,\n",
    "                                                     labels=7)"
   ]
  },
  {
   "cell_type": "markdown",
   "metadata": {},
   "source": [
    "Rather than use an algorithm from another package, let's create a simple\n",
    "`CustomLearner`. At a minimum, any `CustomLearner` must define a\n",
    "`learnerType` attribute and `train` and `apply` methods. In `train`, our\n",
    "learner will store the feature medians for each room. `apply` will examine\n",
    "the deviations in the test point from each room's feature medians and\n",
    "predict the room with the least deviation."
   ]
  },
  {
   "cell_type": "code",
   "execution_count": null,
   "metadata": {},
   "outputs": [],
   "source": [
    "class LeastFeatureMedianDeviation(nimble.CustomLearner):\n",
    "    learnerType = 'classification'\n",
    "\n",
    "    def train(self, trainX, trainY):\n",
    "        allData = trainY.copy()\n",
    "        allData.features.append(trainX, useLog=False)\n",
    "        self.featureMeans = {}\n",
    "        byLabel = allData.groupByFeature(0, useLog=False)\n",
    "        for label, group in byLabel.items():\n",
    "            means = group.features.statistics('median')\n",
    "            self.featureMeans[label] = means\n",
    "\n",
    "    def apply(self, testX):\n",
    "\n",
    "        def leastDeviation(point):\n",
    "            least = None\n",
    "            for label, means in self.featureMeans.items():\n",
    "                sumSquaredDiffs = sum((point - means) ** 2)\n",
    "                if least is None or sumSquaredDiffs < least[1]:\n",
    "                    least = (label, sumSquaredDiffs)\n",
    "            return least[0]\n",
    "\n",
    "        return testX.points.calculate(leastDeviation)\n",
    "\n",
    "performance = nimble.trainAndTest(LeastFeatureMedianDeviation,\n",
    "                                  trainX, trainY, testX, testY,\n",
    "                                  nimble.calculate.fractionCorrect)\n",
    "print(performance)"
   ]
  },
  {
   "cell_type": "markdown",
   "metadata": {},
   "source": [
    "Our simple custom learner worked quite well, predicting the correct room in\n",
    "the test set over 96% of the time."
   ]
  },
  {
   "cell_type": "markdown",
   "metadata": {},
   "source": [
    "## Cross Validation Deep Logging"
   ]
  },
  {
   "cell_type": "markdown",
   "metadata": {},
   "source": [
    "Nimble also has a few builtin custom learners, which are registered under the\n",
    "package name 'nimble', let's try `KNNClassifier`. We will cross validate for\n",
    "two values of `k`, so let's also set `enableCrossValidationDeepLogging` to\n",
    "`'True'`."
   ]
  },
  {
   "cell_type": "code",
   "execution_count": null,
   "metadata": {},
   "outputs": [],
   "source": [
    "nimble.settings.set('logger', 'enableCrossValidationDeepLogging', 'True')\n",
    "performance = nimble.trainAndTest('nimble.KNNClassifier', trainX, trainY,\n",
    "                                  testX, testY,\n",
    "                                  nimble.calculate.fractionCorrect,\n",
    "                                  folds=5, k=nimble.CV([1, 3]))"
   ]
  },
  {
   "cell_type": "markdown",
   "metadata": {},
   "source": [
    "Another way to check a learner's performance is to look at the log, let's see\n",
    "how `KNNClassifier` performed. By default, `showLog` does not display cross\n",
    "validation logs, so we need to increase the `levelOfDetail` to 3."
   ]
  },
  {
   "cell_type": "code",
   "execution_count": null,
   "metadata": {},
   "outputs": [],
   "source": [
    "nimble.showLog(levelOfDetail=3, maximumEntries=2)"
   ]
  },
  {
   "cell_type": "markdown",
   "metadata": {},
   "source": [
    "We can see that k=3 just slightly outperformed k=1 and the learner correctly\n",
    "identified the room in 98% of the test points."
   ]
  },
  {
   "cell_type": "markdown",
   "metadata": {},
   "source": [
    "Also note that showLog has many other parameters to query the log. Right now\n",
    "our log is small, but as it grows these can be very useful to find past\n",
    "information stored in the log file. For now, let's search try searching for\n",
    "our object's name, 'wifi'."
   ]
  },
  {
   "cell_type": "code",
   "execution_count": null,
   "metadata": {},
   "outputs": [],
   "source": [
    "nimble.showLog(searchForText='wifi')"
   ]
  },
  {
   "cell_type": "markdown",
   "metadata": {},
   "source": [
    "While not required to do data science with nimble, configuration, logging,\n",
    "randomness and custom learners add a lot of helpful functionality to nimble\n",
    "and we expect you'll find yourself using some or all of it to support your\n",
    "data science work. That wraps it up for this example, so now is a good time\n",
    "to cleanup the temporary directory containing our log file."
   ]
  },
  {
   "cell_type": "code",
   "execution_count": null,
   "metadata": {},
   "outputs": [],
   "source": [
    "tempDir.cleanup()"
   ]
  },
  {
   "cell_type": "markdown",
   "metadata": {},
   "source": [
    "**References:**  \n",
    "Rajen Bhatt, 'Fuzzy-Rough Approaches for Pattern Classification: Hybrid\n",
    "measures, Mathematical analysis, Feature selection algorithms, Decision\n",
    "tree algorithms, Neural learning, and Applications', Amazon Books\n",
    "\n",
    "Jayant G Rohra, Boominathan Perumal, Swathi Jamjala Narayanan,\n",
    "Priya Thakur, and Rajen B Bhatt, 'User Localization in an Indoor\n",
    "Environment Using Fuzzy Hybrid of Particle Swarm Optimization &\n",
    "Gravitational Search Algorithm with Neural Networks', in Proceedings of\n",
    "Sixth International Conference on Soft Computing for Problem Solving,\n",
    "2017, pp. 286-295.\n",
    "\n",
    "Dua, D. and Graff, C. (2019).  \n",
    "UCI Machine Learning Repository http://archive.ics.uci.edu/ml.  \n",
    "Irvine, CA: University of California, School of Information and Computer Science.\n",
    "\n",
    "**Original Dataset Link:**  \n",
    "https://archive.ics.uci.edu/ml/datasets/Wireless+Indoor+Localization"
   ]
  }
 ],
 "metadata": {
  "kernelspec": {
   "display_name": "SW36",
   "language": "python",
   "name": "sw36"
  },
  "language_info": {
   "codemirror_mode": {
    "name": "ipython",
    "version": 3
   },
   "file_extension": ".py",
   "mimetype": "text/x-python",
   "name": "python",
   "nbconvert_exporter": "python",
   "pygments_lexer": "ipython3",
   "version": "3.6.8"
  }
 },
 "nbformat": 4,
 "nbformat_minor": 4
}
