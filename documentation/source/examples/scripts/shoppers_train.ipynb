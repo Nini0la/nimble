{
 "cells": [
  {
   "cell_type": "markdown",
   "metadata": {},
   "source": [
    "# Unsupervised Learning\n",
    "\n",
    "### Classifying online shoppers to maximize revenue\n",
    "\n",
    "Our dataset, `'online_shoppers_intention_clean.csv'`, is a collection of\n",
    "behaviors for visitors to an online shopping website. Our goal will be to use\n",
    "an unsupervised learner to classify visitors of the website into groups, then\n",
    "explore how differences between groups could help increase the site's revenue."
   ]
  },
  {
   "cell_type": "markdown",
   "metadata": {},
   "source": [
    "## Getting Started"
   ]
  },
  {
   "cell_type": "code",
   "execution_count": null,
   "metadata": {},
   "outputs": [],
   "source": [
    "import nimble\n",
    "%matplotlib inline\n",
    "\n",
    "visits = nimble.data('DataFrame', 'online_shoppers_intention_clean.csv',\n",
    "                     featureNames=True)"
   ]
  },
  {
   "cell_type": "markdown",
   "metadata": {},
   "source": [
    "## Train our learner"
   ]
  },
  {
   "cell_type": "markdown",
   "metadata": {},
   "source": [
    "We will use the elbow-method to determine the number of clusters we want to\n",
    "use for scikit-learn's KMeans learner."
   ]
  },
  {
   "cell_type": "code",
   "execution_count": null,
   "metadata": {},
   "outputs": [],
   "source": [
    "withinClusterSumSquares = []\n",
    "for i in range(1,11):\n",
    "    trainedLearner = nimble.train('skl.KMeans', visits, n_clusters=i)\n",
    "    inertia = trainedLearner.getAttributes()['inertia_']\n",
    "    withinClusterSumSquares.append([i, inertia])\n",
    "\n",
    "wcss = nimble.data('List', withinClusterSumSquares,\n",
    "                   featureNames=['clusters', 'wcss'])\n",
    "wcss.plotFeatureAgainstFeature('clusters', 'wcss')"
   ]
  },
  {
   "cell_type": "markdown",
   "metadata": {},
   "source": [
    "5 clusters is a reasonable choice according to the plot. We will train\n",
    "with 5 clusters then add the generated clusters as a new `'cluster'` feature\n",
    "in our object."
   ]
  },
  {
   "cell_type": "code",
   "execution_count": null,
   "metadata": {},
   "outputs": [],
   "source": [
    "tl = nimble.train('skl.KMeans', visits, n_clusters=5)\n",
    "\n",
    "clusters = tl.apply(visits)\n",
    "clusters.features.setName(0, 'cluster')\n",
    "visits.features.append(clusters)"
   ]
  },
  {
   "cell_type": "markdown",
   "metadata": {},
   "source": [
    "## Analyzing the clusters"
   ]
  },
  {
   "cell_type": "markdown",
   "metadata": {},
   "source": [
    "Let's group our data by cluster so we can analyze differences between the\n",
    "groups identified by the algorithm. Then, we'll examine some difference in\n",
    "features that we could target marketing toward to increase revenue."
   ]
  },
  {
   "cell_type": "code",
   "execution_count": null,
   "metadata": {},
   "outputs": [],
   "source": [
    "byCluster = visits.groupByFeature('cluster')\n",
    "\n",
    "targetFts = ['Revenue', 'SpecialDay', 'Weekend', 'NewVisitor']\n",
    "\n",
    "for cluster, data in byCluster.items():\n",
    "    print('cluster {} ({} points):'.format(cluster, len(data.points)))\n",
    "    print(data[:, targetFts].features.statistics('mean'))"
   ]
  },
  {
   "cell_type": "markdown",
   "metadata": {},
   "source": [
    "We see that weekends and special days do not seem to have much effect on\n",
    "revenue, so marketing based on the day may not be effective. However,\n",
    "clusters with more new visitors are clearly less likely to buy, so we\n",
    "may want to focus on ways to bring visitors back to the site."
   ]
  },
  {
   "cell_type": "markdown",
   "metadata": {},
   "source": [
    "## Improving revenue"
   ]
  },
  {
   "cell_type": "markdown",
   "metadata": {},
   "source": [
    "Let's examine some additional visitor characteristic differences between\n",
    "our worst revenue cluster (0) and our best revenue cluster (4).\n",
    "The visitors location is classified into one of 9 regions in the Region\n",
    "feature. The source that directed the visitor to the website is classified\n",
    "into one of 20 sources in the TrafficType feature. Targeted marketing by\n",
    "region and/or traffic type are practical ways to improve revenue so let's\n",
    "investigate if the distributions of these vary between the two clusters."
   ]
  },
  {
   "cell_type": "code",
   "execution_count": null,
   "metadata": {},
   "outputs": [],
   "source": [
    "worstRevenue = byCluster[0]\n",
    "bestRevenue = byCluster[4]\n",
    "\n",
    "def featureDistributionProportions(data, feature):\n",
    "    \"\"\"\n",
    "    Helper function to examine a features distribution.\n",
    "    \"\"\"\n",
    "    distribution = data.features[feature].countUniqueElements()\n",
    "    for elem in distribution:\n",
    "        distribution[elem] /= len(data.points)\n",
    "    return distribution\n",
    "\n",
    "# Print distribution differences greater than 5 percent\n",
    "for ft in ['Region', 'TrafficType']:\n",
    "    distBest = featureDistributionProportions(bestRevenue, ft)\n",
    "    distWorst = featureDistributionProportions(worstRevenue, ft)\n",
    "    for key in distBest:\n",
    "        diff = distBest[key] - distWorst[key]\n",
    "        if abs(diff) > 0.05:\n",
    "            msg = \"In {ft} {key}, there is a difference of {diff} between \"\n",
    "            msg += \"the best and worst revenue clusters.\"\n",
    "            print(msg.format(ft=ft, key=key, diff=round(diff, 4)))"
   ]
  },
  {
   "cell_type": "markdown",
   "metadata": {},
   "source": [
    "The two clusters are within 5 percent for each region, but the best revenue\n",
    "cluster gets much more traffic via TrafficType 2 and much less via\n",
    "TrafficType 3. We already know most visitors in `bestRevenue` are not new.\n",
    "But let's check how different visitor types in `worstRevenue` are being\n",
    "directed to our website via these two traffic types."
   ]
  },
  {
   "cell_type": "code",
   "execution_count": null,
   "metadata": {},
   "outputs": [],
   "source": [
    "worstRevNewVisitCount = sum(worstRevenue[:, 'NewVisitor'])\n",
    "worstRevReturnVisitCount = len(worstRevenue.points) - worstRevNewVisitCount\n",
    "for trafficType in [2, 3]:\n",
    "    def trafficCountNewVisit(pt):\n",
    "        return pt['TrafficType'] == trafficType and pt['NewVisitor']\n",
    "\n",
    "    def trafficCountReturnVisit(pt):\n",
    "        return pt['TrafficType'] == trafficType and not pt['NewVisitor']\n",
    "\n",
    "    newTraffic = worstRevenue.points.count(trafficCountNewVisit)\n",
    "    returnTraffic = worstRevenue.points.count(trafficCountReturnVisit)\n",
    "    byNew = newTraffic / worstRevNewVisitCount * 100\n",
    "    byReturn = returnTraffic / worstRevReturnVisitCount * 100\n",
    "    msg = '{vType} Visitors for trafficType {num}: {perc}%'\n",
    "    print(msg.format(vType='New', num=trafficType, perc=round(byNew, 1)))\n",
    "    print(msg.format(vType='Return', num=trafficType, perc=round(byReturn, 1)))"
   ]
  },
  {
   "cell_type": "markdown",
   "metadata": {},
   "source": [
    "We saw that our best revenue cluster generates more traffic from TrafficType\n",
    "2 and less traffic from TrafficType 3. In our worst revenue group, new\n",
    "visitors are primarily coming from TrafficType 2, but many return visitors\n",
    "arrive via TrafficType 3. As a plan to generate more revenue, we would\n",
    "suggest that this website reevaluates any investment in TrafficType 3 and\n",
    "focuses on bringing more return visitors back via TrafficType 2."
   ]
  },
  {
   "cell_type": "markdown",
   "metadata": {},
   "source": [
    "**References:**  \n",
    "Sakar, C.O., Polat, S.O., Katircioglu, M. et al. Neural Comput & Applic (2018).  \n",
    "https://doi.org/10.1007/s00521-018-3523-0\n",
    "\n",
    "Dua, D. and Graff, C. (2019).  \n",
    "UCI Machine Learning Repository http://archive.ics.uci.edu/ml.  \n",
    "Irvine, CA: University of California, School of Information and Computer Science.\n",
    "\n",
    "**Original Dataset Link:**  \n",
    "https://archive.ics.uci.edu/ml/datasets/Online+Shoppers+Purchasing+Intention+Dataset"
   ]
  }
 ],
 "metadata": {
  "kernelspec": {
   "display_name": "SW36",
   "language": "python",
   "name": "sw36"
  },
  "language_info": {
   "codemirror_mode": {
    "name": "ipython",
    "version": 3
   },
   "file_extension": ".py",
   "mimetype": "text/x-python",
   "name": "python",
   "nbconvert_exporter": "python",
   "pygments_lexer": "ipython3",
   "version": "3.6.8"
  }
 },
 "nbformat": 4,
 "nbformat_minor": 4
}
