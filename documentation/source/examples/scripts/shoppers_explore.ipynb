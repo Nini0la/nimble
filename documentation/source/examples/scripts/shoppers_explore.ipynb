{
 "cells": [
  {
   "cell_type": "markdown",
   "metadata": {},
   "source": [
    "# Exploring Data\n",
    "\n",
    "### Analyzing the behaviors of online shoppers\n",
    "\n",
    "Our dataset, `'online_shoppers_intention_clean.csv'`, is a collection of\n",
    "behaviors for visitors to an online shopping website. Our goal is to\n",
    "explore this dataset to gather information about the visitors to this\n",
    "site using a variety of the function and methods nimble has available\n",
    "for digging deeper into a dataset."
   ]
  },
  {
   "cell_type": "markdown",
   "metadata": {},
   "source": [
    "## Getting Started"
   ]
  },
  {
   "cell_type": "code",
   "execution_count": null,
   "metadata": {},
   "outputs": [],
   "source": [
    "import nimble\n",
    "%matplotlib inline\n",
    "\n",
    "visits = nimble.data('DataFrame', 'online_shoppers_intention_clean.csv',\n",
    "                     featureNames=True)"
   ]
  },
  {
   "cell_type": "markdown",
   "metadata": {},
   "source": [
    "## Data Overview"
   ]
  },
  {
   "cell_type": "markdown",
   "metadata": {},
   "source": [
    "Each point in this dataset represents a single visit to an online shopping\n",
    "website where 18 features are recorded."
   ]
  },
  {
   "cell_type": "code",
   "execution_count": null,
   "metadata": {},
   "outputs": [],
   "source": [
    "featureNames = visits.features.getNames()"
   ]
  },
  {
   "cell_type": "markdown",
   "metadata": {},
   "source": [
    "The first 6 features record the counts and durations of time spent on\n",
    "the site, based on the types of pages the visitor viewed."
   ]
  },
  {
   "cell_type": "code",
   "execution_count": null,
   "metadata": {},
   "outputs": [],
   "source": [
    "webActivityFts = featureNames[:6]\n",
    "print(visits[:4, webActivityFts].toString(maxWidth=120, maxColumnWidth=23))"
   ]
  },
  {
   "cell_type": "markdown",
   "metadata": {},
   "source": [
    "The next 3 features are website analytics collected during the visit"
   ]
  },
  {
   "cell_type": "code",
   "execution_count": null,
   "metadata": {},
   "outputs": [],
   "source": [
    "webAnalyticsFts = featureNames[6:9]\n",
    "print(visits[:4, webAnalyticsFts].toString(maxWidth=120))"
   ]
  },
  {
   "cell_type": "markdown",
   "metadata": {},
   "source": [
    "The last 9 features are details on the visit or visitor"
   ]
  },
  {
   "cell_type": "code",
   "execution_count": null,
   "metadata": {},
   "outputs": [],
   "source": [
    "visitDetailFts = featureNames[9:]\n",
    "print(visits[:4, visitDetailFts].toString(maxWidth=120))"
   ]
  },
  {
   "cell_type": "markdown",
   "metadata": {},
   "source": [
    "Now that we have a better understanding of our data, let's see what we can learn from it"
   ]
  },
  {
   "cell_type": "markdown",
   "metadata": {},
   "source": [
    "## Exploring data through data object methods."
   ]
  },
  {
   "cell_type": "markdown",
   "metadata": {},
   "source": [
    "Revenue is a boolean feature indicating if the visitor made a purchase.\n",
    "How does Revenue correlate with other features?"
   ]
  },
  {
   "cell_type": "code",
   "execution_count": null,
   "metadata": {},
   "outputs": [],
   "source": [
    "correlations = visits.features.similarities('correlation')\n",
    "print(correlations[:, 'Revenue'])"
   ]
  },
  {
   "cell_type": "markdown",
   "metadata": {},
   "source": [
    "What proportion of visits generated revenue?"
   ]
  },
  {
   "cell_type": "code",
   "execution_count": null,
   "metadata": {},
   "outputs": [],
   "source": [
    "revenueGen = sum(visits.features['Revenue']) / len(visits.points)\n",
    "print('Proportion of visits that generated revenue:', revenueGen)"
   ]
  },
  {
   "cell_type": "markdown",
   "metadata": {},
   "source": [
    "The SpecialDay feature ranges from 0 to 1 indicating proximity to a special\n",
    "day (such as Mother's Day), where increased visits might be expected.\n",
    "What proportion of visits occur in proximity to a special day?"
   ]
  },
  {
   "cell_type": "code",
   "execution_count": null,
   "metadata": {},
   "outputs": [],
   "source": [
    "special = visits.points.count('SpecialDay>0') / len(visits.points)\n",
    "print('Proportion of visits near a special day:', special)"
   ]
  },
  {
   "cell_type": "markdown",
   "metadata": {},
   "source": [
    "## Exploring data through nimble's calculate module"
   ]
  },
  {
   "cell_type": "markdown",
   "metadata": {},
   "source": [
    "This site categorizes their pages into the three types in the list below.\n",
    "Which types of pages are being visited the most?"
   ]
  },
  {
   "cell_type": "code",
   "execution_count": null,
   "metadata": {},
   "outputs": [],
   "source": [
    "for ft in ['Administrative', 'Informational', 'ProductRelated']:\n",
    "    mean = nimble.calculate.mean(visits[:, ft])\n",
    "    print(ft, 'average hits per visit', mean)"
   ]
  },
  {
   "cell_type": "markdown",
   "metadata": {},
   "source": [
    "What proportion of visitors reach a product-related page?"
   ]
  },
  {
   "cell_type": "code",
   "execution_count": null,
   "metadata": {},
   "outputs": [],
   "source": [
    "noProduct = nimble.calculate.proportionZero(visits.features['ProductRelated'])\n",
    "print('Proportion of visitors that view a product page:', 1 - noProduct)"
   ]
  },
  {
   "cell_type": "markdown",
   "metadata": {},
   "source": [
    "## Exploring data through plotting"
   ]
  },
  {
   "cell_type": "markdown",
   "metadata": {},
   "source": [
    "The amount of time spent on each page type is also recorded.\n",
    "Is there a relationship between time spent on informational pages and product related pages?"
   ]
  },
  {
   "cell_type": "code",
   "execution_count": null,
   "metadata": {},
   "outputs": [],
   "source": [
    "visits.plotFeatureAgainstFeature('Administrative_Duration',\n",
    "                                 'ProductRelated_Duration')"
   ]
  },
  {
   "cell_type": "markdown",
   "metadata": {},
   "source": [
    "Each visitor's location is classified into one of nine regions in the Region feature.\n",
    "How is site traffic distributed by region?"
   ]
  },
  {
   "cell_type": "code",
   "execution_count": null,
   "metadata": {},
   "outputs": [],
   "source": [
    "visits.plotFeatureDistribution('Region')"
   ]
  },
  {
   "cell_type": "markdown",
   "metadata": {},
   "source": [
    "We have learned a lot about website visitors on our own. Next see how applying\n",
    "an unsupervised learning model can help us learn even more."
   ]
  },
  {
   "cell_type": "markdown",
   "metadata": {},
   "source": [
    "**References:**  \n",
    "Sakar, C.O., Polat, S.O., Katircioglu, M. et al. Neural Comput & Applic (2018).  \n",
    "https://doi.org/10.1007/s00521-018-3523-0\n",
    "\n",
    "Dua, D. and Graff, C. (2019).  \n",
    "UCI Machine Learning Repository http://archive.ics.uci.edu/ml.  \n",
    "Irvine, CA: University of California, School of Information and Computer Science.\n",
    "\n",
    "**Original Dataset Link:**  \n",
    "https://archive.ics.uci.edu/ml/datasets/Online+Shoppers+Purchasing+Intention+Dataset"
   ]
  }
 ],
 "metadata": {
  "kernelspec": {
   "display_name": "SW36",
   "language": "python",
   "name": "sw36"
  },
  "language_info": {
   "codemirror_mode": {
    "name": "ipython",
    "version": 3
   },
   "file_extension": ".py",
   "mimetype": "text/x-python",
   "name": "python",
   "nbconvert_exporter": "python",
   "pygments_lexer": "ipython3",
   "version": "3.6.8"
  }
 },
 "nbformat": 4,
 "nbformat_minor": 4
}
