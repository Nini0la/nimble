{
 "cells": [
  {
   "cell_type": "markdown",
   "metadata": {},
   "source": [
    "# Combining and Tidying Data\n",
    "\n",
    "### Creating a tidy data object from multiple data objects.\n",
    "\n",
    "In this example, we have temperature data contained in many files. Each\n",
    "point in every file records 12 hours of temperatures for each day, but\n",
    "files vary by the location, time period and extreme (min or max). This\n",
    "data would also benefit from a reorganization of the points and features\n",
    "to optimize for machine learning, often called \"data tidying\" (Wickham).\n",
    "Our goal is to create a single, tidy, nimble object where each point has\n",
    "five features: 'date', 'hour', 'location', 'min' and 'max'."
   ]
  },
  {
   "cell_type": "markdown",
   "metadata": {},
   "source": [
    "## Getting Started"
   ]
  },
  {
   "cell_type": "markdown",
   "metadata": {},
   "source": [
    "Create objects from each of our 8 data files"
   ]
  },
  {
   "cell_type": "code",
   "execution_count": null,
   "metadata": {},
   "outputs": [],
   "source": [
    "import nimble\n",
    "\n",
    "downtownMinAM = nimble.data('Matrix', 'downtown_am_min.csv', featureNames=True)\n",
    "downtownMaxAM = nimble.data('Matrix', 'downtown_am_max.csv', featureNames=True)\n",
    "downtownMinPM = nimble.data('Matrix', 'downtown_pm_min.csv', featureNames=True)\n",
    "downtownMaxPM = nimble.data('Matrix', 'downtown_pm_max.csv', featureNames=True)\n",
    "airportMinAM = nimble.data('Matrix', 'airport_am_min.csv', featureNames=True)\n",
    "airportMaxAM = nimble.data('Matrix', 'airport_am_max.csv', featureNames=True)\n",
    "airportMinPM = nimble.data('Matrix', 'airport_pm_min.csv', featureNames=True)\n",
    "airportMaxPM = nimble.data('Matrix', 'airport_pm_max.csv', featureNames=True)\n",
    "print(downtownMinAM.name, downtownMinAM.shape)\n",
    "print(downtownMinAM[:5, :])"
   ]
  },
  {
   "cell_type": "markdown",
   "metadata": {},
   "source": [
    "## Combining the data"
   ]
  },
  {
   "cell_type": "markdown",
   "metadata": {},
   "source": [
    "First, we can reduce our number of objects to 4 by combining AM and PM\n",
    "temperatures of objects with the same location and extreme (min or max).\n",
    "The featureNames for AM and PM are currently the same, so we will need to\n",
    "modify the featureNames in the PM objects so that they denote the hour\n",
    "according to a 24 hour clock."
   ]
  },
  {
   "cell_type": "code",
   "execution_count": null,
   "metadata": {},
   "outputs": [],
   "source": [
    "ftsPM = ['date', 'hr12', 'hr13', 'hr14', 'hr15', 'hr16', 'hr17',\n",
    "         'hr18', 'hr19', 'hr20', 'hr21', 'hr22', 'hr23']\n",
    "\n",
    "for obj in [downtownMinPM, downtownMaxPM, airportMinPM, airportMaxPM]:\n",
    "    obj.features.setNames(ftsPM)"
   ]
  },
  {
   "cell_type": "markdown",
   "metadata": {},
   "source": [
    "Now that we've differentiated our features, we can use a merge operation. We\n",
    "want to join these objects on the 'date' feature and use point='union' so\n",
    "that we keep all possible dates, even when a date is missing for the AM or PM\n",
    "data."
   ]
  },
  {
   "cell_type": "code",
   "execution_count": null,
   "metadata": {},
   "outputs": [],
   "source": [
    "downtownMinAM.merge(downtownMinPM, onFeature='date', point='union')\n",
    "downtownMaxAM.merge(downtownMaxPM, onFeature='date', point='union')\n",
    "airportMinAM.merge(airportMinPM, onFeature='date', point='union')\n",
    "airportMaxAM.merge(airportMaxPM, onFeature='date', point='union')\n",
    "\n",
    "print(downtownMinAM.name, downtownMinAM.shape)\n",
    "print(downtownMinAM[:5, :])"
   ]
  },
  {
   "cell_type": "markdown",
   "metadata": {},
   "source": [
    "Next, we can reduce our number of objects to 2 by combining the objects\n",
    "with different extremes (min or max) for the same location. Before combining,\n",
    "we will want to add an `extreme`feature to each object."
   ]
  },
  {
   "cell_type": "code",
   "execution_count": null,
   "metadata": {},
   "outputs": [],
   "source": [
    "for obj in [downtownMinAM, downtownMaxAM, airportMinAM, airportMaxAM]:\n",
    "    extreme = 'min' if 'min' in obj.name else 'max'\n",
    "    ftData = [[extreme] for _ in range(len(obj.points))]\n",
    "    newFt = nimble.data('Matrix', ftData, featureNames=['extreme'])\n",
    "    obj.features.insert(1, newFt)\n",
    "    obj.features.setName(1, 'extreme')\n",
    "\n",
    "downtownMinAM.points.append(downtownMaxAM)\n",
    "airportMinAM.points.append(airportMaxAM)\n",
    "\n",
    "print(downtownMinAM.name, downtownMinAM.shape)\n",
    "print(downtownMinAM[:5, :])"
   ]
  },
  {
   "cell_type": "markdown",
   "metadata": {},
   "source": [
    "Finally, we can combine our two objects into one after defining a\n",
    "new 'station' feature for each object."
   ]
  },
  {
   "cell_type": "code",
   "execution_count": null,
   "metadata": {},
   "outputs": [],
   "source": [
    "for obj in [downtownMinAM, airportMinAM]:\n",
    "    station = 'downtown' if 'downtown' in obj.name else 'airport'\n",
    "    stationData = [[station] for _ in range(len(obj.points))]\n",
    "    newFt = nimble.data('Matrix', stationData, featureNames=['station'])\n",
    "    obj.features.insert(1, newFt)\n",
    "    obj.features.setName(1, 'station')\n",
    "\n",
    "downtownMinAM.points.append(airportMinAM)\n",
    "\n",
    "# Let's clarify the variable name before we move to tidying this data.\n",
    "tempData = downtownMinAM\n",
    "tempData.name = 'combined temperature data'\n",
    "tempData.points.sort('date')\n",
    "print(tempData.name, tempData.shape)\n",
    "print(tempData[:5, :])"
   ]
  },
  {
   "cell_type": "markdown",
   "metadata": {},
   "source": [
    "## Tidying the data"
   ]
  },
  {
   "cell_type": "markdown",
   "metadata": {},
   "source": [
    "Our data is combined, but not in the format we want. We would consider a tidy\n",
    "point to contain the min and max temperatures at a station for one hour of a\n",
    "day. However, our current points are either the min or max temperatures at a\n",
    "station for all hours of the day.\n",
    "\n",
    "First, let's represent a change in hour by different points, not features.\n",
    "If we collapse the hour features, every point will be split into 24 points\n",
    "(one for each hour feature we collapsed)."
   ]
  },
  {
   "cell_type": "code",
   "execution_count": null,
   "metadata": {},
   "outputs": [],
   "source": [
    "hourFts = ['hr' + str(i) for i in range(24)]\n",
    "tempData.points.splitByCollapsingFeatures(featuresToCollapse=hourFts,\n",
    "                                          featureForNames='hour',\n",
    "                                          featureForValues='temp')\n",
    "print(tempData.name, tempData.shape)\n",
    "print(tempData[:5, :])"
   ]
  },
  {
   "cell_type": "markdown",
   "metadata": {},
   "source": [
    "Next, let's represent different temperature extremes in different features,\n",
    "not points. If we expand the values in the 'extreme' feature to be new\n",
    "features, we can combine the points with the same 'date', 'hour', and\n",
    "'station' features"
   ]
  },
  {
   "cell_type": "code",
   "execution_count": null,
   "metadata": {},
   "outputs": [],
   "source": [
    "tempData.points.combineByExpandingFeatures(featureWithFeatureNames='extreme',\n",
    "                                           featuresWithValues='temp')\n",
    "print(tempData.name, tempData.shape)\n",
    "print(tempData[:5, :])"
   ]
  },
  {
   "cell_type": "markdown",
   "metadata": {},
   "source": [
    "Our object is now organized how we wanted with a much more tidy structure.\n",
    "There is one more tidying function in nimble as well. It is designed to\n",
    "separate a feature containing multiple pieces of information into multiple\n",
    "features. We can demonstrate its functionality by applying it to our 'date'\n",
    "feature to create 'year', 'month' and 'day' features."
   ]
  },
  {
   "cell_type": "code",
   "execution_count": null,
   "metadata": {},
   "outputs": [],
   "source": [
    "tempData.features.splitByParsing('date', lambda val: val.split('-'),\n",
    "                                 ['year', 'month', 'day'])\n",
    "print(tempData.name, tempData.shape)\n",
    "print(tempData[:5, :])"
   ]
  },
  {
   "cell_type": "markdown",
   "metadata": {},
   "source": [
    "**Reference:**  \n",
    "Wickham, H. (2014). Tidy Data. Journal of Statistical  \n",
    "Software, 59(10), 1 - 23.  \n",
    "doi:http://dx.doi.org/10.18637/jss.v059.i10"
   ]
  }
 ],
 "metadata": {
  "kernelspec": {
   "display_name": "SW36",
   "language": "python",
   "name": "sw36"
  },
  "language_info": {
   "codemirror_mode": {
    "name": "ipython",
    "version": 3
   },
   "file_extension": ".py",
   "mimetype": "text/x-python",
   "name": "python",
   "nbconvert_exporter": "python",
   "pygments_lexer": "ipython3",
   "version": "3.6.8"
  }
 },
 "nbformat": 4,
 "nbformat_minor": 4
}
